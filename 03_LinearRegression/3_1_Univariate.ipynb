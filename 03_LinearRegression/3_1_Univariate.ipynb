{
  "nbformat": 4,
  "nbformat_minor": 0,
  "metadata": {
    "colab": {
      "name": "3.1_Univariate.ipynb",
      "provenance": [],
      "include_colab_link": true
    },
    "kernelspec": {
      "name": "python3",
      "display_name": "Python 3"
    },
    "accelerator": "GPU"
  },
  "cells": [
    {
      "cell_type": "markdown",
      "metadata": {
        "id": "view-in-github",
        "colab_type": "text"
      },
      "source": [
        "<a href=\"https://colab.research.google.com/github/dishant26/MLnow_2.0/blob/main/03_LinearRegression/3_1_Univariate.ipynb\" target=\"_parent\"><img src=\"https://colab.research.google.com/assets/colab-badge.svg\" alt=\"Open In Colab\"/></a>"
      ]
    },
    {
      "cell_type": "code",
      "metadata": {
        "colab": {
          "base_uri": "https://localhost:8080/"
        },
        "id": "oX_QibhWsnnX",
        "outputId": "a7064e43-0156-4242-bc19-14d5769b3684"
      },
      "source": [
        "from google.colab import drive\n",
        "drive.mount('/content/drive')"
      ],
      "execution_count": 1,
      "outputs": [
        {
          "output_type": "stream",
          "text": [
            "Mounted at /content/drive\n"
          ],
          "name": "stdout"
        }
      ]
    },
    {
      "cell_type": "code",
      "metadata": {
        "id": "wI4Rdfns1RVP"
      },
      "source": [
        "import pandas as pd\n",
        "import numpy as np\n",
        "import tensorflow as tf\n",
        "from tensorflow import keras\n",
        "import os\n",
        "import zipfile"
      ],
      "execution_count": 3,
      "outputs": []
    },
    {
      "cell_type": "code",
      "metadata": {
        "id": "wYuNn17Isvml"
      },
      "source": [
        "zip_ref = zipfile.ZipFile(\"/content/drive/MyDrive/ML Girlscript/EDA/student.zip\")\n",
        "zip_ref.extractall(\"/content/tmp\")\n",
        "zip_ref.close()"
      ],
      "execution_count": 4,
      "outputs": []
    },
    {
      "cell_type": "code",
      "metadata": {
        "colab": {
          "base_uri": "https://localhost:8080/",
          "height": 238
        },
        "id": "oR69jwALs-uP",
        "outputId": "35e84fa7-9a68-485e-840c-619bc28b629b"
      },
      "source": [
        "df = pd.read_csv(\"/content/tmp/student-mat.csv\", sep=';')\n",
        "print(df.shape)\n",
        "df.head()"
      ],
      "execution_count": 5,
      "outputs": [
        {
          "output_type": "stream",
          "text": [
            "(395, 33)\n"
          ],
          "name": "stdout"
        },
        {
          "output_type": "execute_result",
          "data": {
            "text/html": [
              "<div>\n",
              "<style scoped>\n",
              "    .dataframe tbody tr th:only-of-type {\n",
              "        vertical-align: middle;\n",
              "    }\n",
              "\n",
              "    .dataframe tbody tr th {\n",
              "        vertical-align: top;\n",
              "    }\n",
              "\n",
              "    .dataframe thead th {\n",
              "        text-align: right;\n",
              "    }\n",
              "</style>\n",
              "<table border=\"1\" class=\"dataframe\">\n",
              "  <thead>\n",
              "    <tr style=\"text-align: right;\">\n",
              "      <th></th>\n",
              "      <th>school</th>\n",
              "      <th>sex</th>\n",
              "      <th>age</th>\n",
              "      <th>address</th>\n",
              "      <th>famsize</th>\n",
              "      <th>Pstatus</th>\n",
              "      <th>Medu</th>\n",
              "      <th>Fedu</th>\n",
              "      <th>Mjob</th>\n",
              "      <th>Fjob</th>\n",
              "      <th>reason</th>\n",
              "      <th>guardian</th>\n",
              "      <th>traveltime</th>\n",
              "      <th>studytime</th>\n",
              "      <th>failures</th>\n",
              "      <th>schoolsup</th>\n",
              "      <th>famsup</th>\n",
              "      <th>paid</th>\n",
              "      <th>activities</th>\n",
              "      <th>nursery</th>\n",
              "      <th>higher</th>\n",
              "      <th>internet</th>\n",
              "      <th>romantic</th>\n",
              "      <th>famrel</th>\n",
              "      <th>freetime</th>\n",
              "      <th>goout</th>\n",
              "      <th>Dalc</th>\n",
              "      <th>Walc</th>\n",
              "      <th>health</th>\n",
              "      <th>absences</th>\n",
              "      <th>G1</th>\n",
              "      <th>G2</th>\n",
              "      <th>G3</th>\n",
              "    </tr>\n",
              "  </thead>\n",
              "  <tbody>\n",
              "    <tr>\n",
              "      <th>0</th>\n",
              "      <td>GP</td>\n",
              "      <td>F</td>\n",
              "      <td>18</td>\n",
              "      <td>U</td>\n",
              "      <td>GT3</td>\n",
              "      <td>A</td>\n",
              "      <td>4</td>\n",
              "      <td>4</td>\n",
              "      <td>at_home</td>\n",
              "      <td>teacher</td>\n",
              "      <td>course</td>\n",
              "      <td>mother</td>\n",
              "      <td>2</td>\n",
              "      <td>2</td>\n",
              "      <td>0</td>\n",
              "      <td>yes</td>\n",
              "      <td>no</td>\n",
              "      <td>no</td>\n",
              "      <td>no</td>\n",
              "      <td>yes</td>\n",
              "      <td>yes</td>\n",
              "      <td>no</td>\n",
              "      <td>no</td>\n",
              "      <td>4</td>\n",
              "      <td>3</td>\n",
              "      <td>4</td>\n",
              "      <td>1</td>\n",
              "      <td>1</td>\n",
              "      <td>3</td>\n",
              "      <td>6</td>\n",
              "      <td>5</td>\n",
              "      <td>6</td>\n",
              "      <td>6</td>\n",
              "    </tr>\n",
              "    <tr>\n",
              "      <th>1</th>\n",
              "      <td>GP</td>\n",
              "      <td>F</td>\n",
              "      <td>17</td>\n",
              "      <td>U</td>\n",
              "      <td>GT3</td>\n",
              "      <td>T</td>\n",
              "      <td>1</td>\n",
              "      <td>1</td>\n",
              "      <td>at_home</td>\n",
              "      <td>other</td>\n",
              "      <td>course</td>\n",
              "      <td>father</td>\n",
              "      <td>1</td>\n",
              "      <td>2</td>\n",
              "      <td>0</td>\n",
              "      <td>no</td>\n",
              "      <td>yes</td>\n",
              "      <td>no</td>\n",
              "      <td>no</td>\n",
              "      <td>no</td>\n",
              "      <td>yes</td>\n",
              "      <td>yes</td>\n",
              "      <td>no</td>\n",
              "      <td>5</td>\n",
              "      <td>3</td>\n",
              "      <td>3</td>\n",
              "      <td>1</td>\n",
              "      <td>1</td>\n",
              "      <td>3</td>\n",
              "      <td>4</td>\n",
              "      <td>5</td>\n",
              "      <td>5</td>\n",
              "      <td>6</td>\n",
              "    </tr>\n",
              "    <tr>\n",
              "      <th>2</th>\n",
              "      <td>GP</td>\n",
              "      <td>F</td>\n",
              "      <td>15</td>\n",
              "      <td>U</td>\n",
              "      <td>LE3</td>\n",
              "      <td>T</td>\n",
              "      <td>1</td>\n",
              "      <td>1</td>\n",
              "      <td>at_home</td>\n",
              "      <td>other</td>\n",
              "      <td>other</td>\n",
              "      <td>mother</td>\n",
              "      <td>1</td>\n",
              "      <td>2</td>\n",
              "      <td>3</td>\n",
              "      <td>yes</td>\n",
              "      <td>no</td>\n",
              "      <td>yes</td>\n",
              "      <td>no</td>\n",
              "      <td>yes</td>\n",
              "      <td>yes</td>\n",
              "      <td>yes</td>\n",
              "      <td>no</td>\n",
              "      <td>4</td>\n",
              "      <td>3</td>\n",
              "      <td>2</td>\n",
              "      <td>2</td>\n",
              "      <td>3</td>\n",
              "      <td>3</td>\n",
              "      <td>10</td>\n",
              "      <td>7</td>\n",
              "      <td>8</td>\n",
              "      <td>10</td>\n",
              "    </tr>\n",
              "    <tr>\n",
              "      <th>3</th>\n",
              "      <td>GP</td>\n",
              "      <td>F</td>\n",
              "      <td>15</td>\n",
              "      <td>U</td>\n",
              "      <td>GT3</td>\n",
              "      <td>T</td>\n",
              "      <td>4</td>\n",
              "      <td>2</td>\n",
              "      <td>health</td>\n",
              "      <td>services</td>\n",
              "      <td>home</td>\n",
              "      <td>mother</td>\n",
              "      <td>1</td>\n",
              "      <td>3</td>\n",
              "      <td>0</td>\n",
              "      <td>no</td>\n",
              "      <td>yes</td>\n",
              "      <td>yes</td>\n",
              "      <td>yes</td>\n",
              "      <td>yes</td>\n",
              "      <td>yes</td>\n",
              "      <td>yes</td>\n",
              "      <td>yes</td>\n",
              "      <td>3</td>\n",
              "      <td>2</td>\n",
              "      <td>2</td>\n",
              "      <td>1</td>\n",
              "      <td>1</td>\n",
              "      <td>5</td>\n",
              "      <td>2</td>\n",
              "      <td>15</td>\n",
              "      <td>14</td>\n",
              "      <td>15</td>\n",
              "    </tr>\n",
              "    <tr>\n",
              "      <th>4</th>\n",
              "      <td>GP</td>\n",
              "      <td>F</td>\n",
              "      <td>16</td>\n",
              "      <td>U</td>\n",
              "      <td>GT3</td>\n",
              "      <td>T</td>\n",
              "      <td>3</td>\n",
              "      <td>3</td>\n",
              "      <td>other</td>\n",
              "      <td>other</td>\n",
              "      <td>home</td>\n",
              "      <td>father</td>\n",
              "      <td>1</td>\n",
              "      <td>2</td>\n",
              "      <td>0</td>\n",
              "      <td>no</td>\n",
              "      <td>yes</td>\n",
              "      <td>yes</td>\n",
              "      <td>no</td>\n",
              "      <td>yes</td>\n",
              "      <td>yes</td>\n",
              "      <td>no</td>\n",
              "      <td>no</td>\n",
              "      <td>4</td>\n",
              "      <td>3</td>\n",
              "      <td>2</td>\n",
              "      <td>1</td>\n",
              "      <td>2</td>\n",
              "      <td>5</td>\n",
              "      <td>4</td>\n",
              "      <td>6</td>\n",
              "      <td>10</td>\n",
              "      <td>10</td>\n",
              "    </tr>\n",
              "  </tbody>\n",
              "</table>\n",
              "</div>"
            ],
            "text/plain": [
              "  school sex  age address famsize Pstatus  ...  Walc  health absences  G1  G2  G3\n",
              "0     GP   F   18       U     GT3       A  ...     1       3        6   5   6   6\n",
              "1     GP   F   17       U     GT3       T  ...     1       3        4   5   5   6\n",
              "2     GP   F   15       U     LE3       T  ...     3       3       10   7   8  10\n",
              "3     GP   F   15       U     GT3       T  ...     1       5        2  15  14  15\n",
              "4     GP   F   16       U     GT3       T  ...     2       5        4   6  10  10\n",
              "\n",
              "[5 rows x 33 columns]"
            ]
          },
          "metadata": {
            "tags": []
          },
          "execution_count": 5
        }
      ]
    },
    {
      "cell_type": "markdown",
      "metadata": {
        "id": "i2bal50yG_PZ"
      },
      "source": [
        "We are just going to consider the columns `G1` and `G3` for univariate linear regression\n",
        "\n",
        "$G3_i = G1_i  \\cdot \\theta_1 + \\theta_0$"
      ]
    },
    {
      "cell_type": "code",
      "metadata": {
        "colab": {
          "base_uri": "https://localhost:8080/",
          "height": 202
        },
        "id": "Yw0PNCuTSEDC",
        "outputId": "4ab018e7-c7f7-4963-a839-fde7b60fb28c"
      },
      "source": [
        "uniDF = df[['G1', 'G3']]\n",
        "uniDF.head(5)"
      ],
      "execution_count": 6,
      "outputs": [
        {
          "output_type": "execute_result",
          "data": {
            "text/html": [
              "<div>\n",
              "<style scoped>\n",
              "    .dataframe tbody tr th:only-of-type {\n",
              "        vertical-align: middle;\n",
              "    }\n",
              "\n",
              "    .dataframe tbody tr th {\n",
              "        vertical-align: top;\n",
              "    }\n",
              "\n",
              "    .dataframe thead th {\n",
              "        text-align: right;\n",
              "    }\n",
              "</style>\n",
              "<table border=\"1\" class=\"dataframe\">\n",
              "  <thead>\n",
              "    <tr style=\"text-align: right;\">\n",
              "      <th></th>\n",
              "      <th>G1</th>\n",
              "      <th>G3</th>\n",
              "    </tr>\n",
              "  </thead>\n",
              "  <tbody>\n",
              "    <tr>\n",
              "      <th>0</th>\n",
              "      <td>5</td>\n",
              "      <td>6</td>\n",
              "    </tr>\n",
              "    <tr>\n",
              "      <th>1</th>\n",
              "      <td>5</td>\n",
              "      <td>6</td>\n",
              "    </tr>\n",
              "    <tr>\n",
              "      <th>2</th>\n",
              "      <td>7</td>\n",
              "      <td>10</td>\n",
              "    </tr>\n",
              "    <tr>\n",
              "      <th>3</th>\n",
              "      <td>15</td>\n",
              "      <td>15</td>\n",
              "    </tr>\n",
              "    <tr>\n",
              "      <th>4</th>\n",
              "      <td>6</td>\n",
              "      <td>10</td>\n",
              "    </tr>\n",
              "  </tbody>\n",
              "</table>\n",
              "</div>"
            ],
            "text/plain": [
              "   G1  G3\n",
              "0   5   6\n",
              "1   5   6\n",
              "2   7  10\n",
              "3  15  15\n",
              "4   6  10"
            ]
          },
          "metadata": {
            "tags": []
          },
          "execution_count": 6
        }
      ]
    },
    {
      "cell_type": "markdown",
      "metadata": {
        "id": "ImV3p6AKxszU"
      },
      "source": [
        "## Data visualization"
      ]
    },
    {
      "cell_type": "code",
      "metadata": {
        "colab": {
          "base_uri": "https://localhost:8080/",
          "height": 157
        },
        "id": "RqumcsZLxq4v",
        "outputId": "06bbaaef-00ff-40b9-f5cd-9af3167da034"
      },
      "source": [
        "import seaborn as sns\n",
        "sns.palplot(sns.color_palette('PuOr')) #Purple to Orange colors\n",
        "pal = sns.color_palette('PuOr', 6) #print 6 color shades from Purple to Orange\n",
        "pal.as_hex() #set hex code values for colors\n",
        "\n",
        "import matplotlib.pyplot as plt\n",
        "plt.style.use(['seaborn'])\n",
        "sns_colors = ['#c6690c', '#664697'] #orange Purple hex codes\n",
        "sns.set_palette(sns_colors) #set the palette as sns_colors \n",
        "sns.palplot(sns.color_palette(sns_colors)) #plot the color codes"
      ],
      "execution_count": 7,
      "outputs": [
        {
          "output_type": "display_data",
          "data": {
            "image/png": "[encoded data removed]",
            "text/plain": [
              "<Figure size 432x72 with 1 Axes>"
            ]
          },
          "metadata": {
            "tags": [],
            "needs_background": "light"
          }
        },
        {
          "output_type": "display_data",
          "data": {
            "image/png": "[encoded data removed]",
            "text/plain": [
              "<Figure size 144x72 with 1 Axes>"
            ]
          },
          "metadata": {
            "tags": []
          }
        }
      ]
    },
    {
      "cell_type": "code",
      "metadata": {
        "colab": {
          "base_uri": "https://localhost:8080/"
        },
        "id": "A6MT5E8Fy7MZ",
        "outputId": "8b0456ea-6db7-4f98-ebac-d0b8622aa409"
      },
      "source": [
        "uniDF.columns #columns in the dataframe"
      ],
      "execution_count": 8,
      "outputs": [
        {
          "output_type": "execute_result",
          "data": {
            "text/plain": [
              "Index(['G1', 'G3'], dtype='object')"
            ]
          },
          "metadata": {
            "tags": []
          },
          "execution_count": 8
        }
      ]
    },
    {
      "cell_type": "code",
      "metadata": {
        "colab": {
          "base_uri": "https://localhost:8080/",
          "height": 391
        },
        "id": "PrsTwdHHzBbk",
        "outputId": "8772eb67-b252-415f-dd57-ddc35e4b683c"
      },
      "source": [
        "#pairplot for all the values\n",
        "\n",
        "sns.pairplot(uniDF,\n",
        "             x_vars = ['G1', 'G3'],\n",
        "             y_vars =  ['G1', 'G3'],\n",
        "       diag_kind='kde'\n",
        "             )"
      ],
      "execution_count": 9,
      "outputs": [
        {
          "output_type": "execute_result",
          "data": {
            "text/plain": [
              "<seaborn.axisgrid.PairGrid at 0x7f10615b05d0>"
            ]
          },
          "metadata": {
            "tags": []
          },
          "execution_count": 9
        },
        {
          "output_type": "display_data",
          "data": {
            "image/png": "[encoded data removed]",
            "text/plain": [
              "<Figure size 360x360 with 6 Axes>"
            ]
          },
          "metadata": {
            "tags": []
          }
        }
      ]
    },
    {
      "cell_type": "markdown",
      "metadata": {
        "id": "Klm33YcpKZkl"
      },
      "source": [
        "## Data Splits"
      ]
    },
    {
      "cell_type": "code",
      "metadata": {
        "colab": {
          "base_uri": "https://localhost:8080/"
        },
        "id": "UwrSOCKS1NhN",
        "outputId": "f2ac6e6e-61e5-487c-cb46-c51c00e39285"
      },
      "source": [
        "#80-20 train-test percent split\n",
        "\n",
        "trainDataset = uniDF.sample(frac=0.8, random_state=0) \n",
        "testDataset = uniDF.drop(trainDataset.index)\n",
        "\n",
        "print(trainDataset.head())\n",
        "print(testDataset.head())"
      ],
      "execution_count": 10,
      "outputs": [
        {
          "output_type": "stream",
          "text": [
            "     G1  G3\n",
            "329  14  14\n",
            "318  11  10\n",
            "317   9   9\n",
            "65   16  15\n",
            "59   15  16\n",
            "    G1  G3\n",
            "9   14  15\n",
            "25   6   8\n",
            "28  11  11\n",
            "31  17  17\n",
            "32  17  16\n"
          ],
          "name": "stdout"
        }
      ]
    },
    {
      "cell_type": "code",
      "metadata": {
        "colab": {
          "base_uri": "https://localhost:8080/"
        },
        "id": "YWO2xRV53wV-",
        "outputId": "a98a9e71-8f25-4768-d8ea-9b89b42f993c"
      },
      "source": [
        "print(trainDataset.shape)\n",
        "print(testDataset.shape)"
      ],
      "execution_count": 11,
      "outputs": [
        {
          "output_type": "stream",
          "text": [
            "(316, 2)\n",
            "(79, 2)\n"
          ],
          "name": "stdout"
        }
      ]
    },
    {
      "cell_type": "code",
      "metadata": {
        "colab": {
          "base_uri": "https://localhost:8080/"
        },
        "id": "OmDTbvMC32hg",
        "outputId": "a9aef029-4e55-44b0-e0dd-94095d3024e4"
      },
      "source": [
        "#copy the trainDataset dataframe for getting the features\n",
        "\n",
        "trainFeatures = trainDataset.copy()\n",
        "testFeatures = testDataset.copy()\n",
        "\n",
        "print(trainFeatures.head())\n",
        "print(testFeatures.head())"
      ],
      "execution_count": 12,
      "outputs": [
        {
          "output_type": "stream",
          "text": [
            "     G1  G3\n",
            "329  14  14\n",
            "318  11  10\n",
            "317   9   9\n",
            "65   16  15\n",
            "59   15  16\n",
            "    G1  G3\n",
            "9   14  15\n",
            "25   6   8\n",
            "28  11  11\n",
            "31  17  17\n",
            "32  17  16\n"
          ],
          "name": "stdout"
        }
      ]
    },
    {
      "cell_type": "code",
      "metadata": {
        "colab": {
          "base_uri": "https://localhost:8080/"
        },
        "id": "jSR0_uni4ayh",
        "outputId": "d0659558-aaf0-4ec9-b895-fab35184be59"
      },
      "source": [
        "#removing the G3 column and saving it into the labels variable\n",
        "\n",
        "trainLabels = trainFeatures.pop('G3')\n",
        "testLabels = testFeatures.pop('G3')\n",
        "\n",
        "print(trainLabels.head())\n",
        "print(testLabels.head())"
      ],
      "execution_count": 13,
      "outputs": [
        {
          "output_type": "stream",
          "text": [
            "329    14\n",
            "318    10\n",
            "317     9\n",
            "65     15\n",
            "59     16\n",
            "Name: G3, dtype: int64\n",
            "9     15\n",
            "25     8\n",
            "28    11\n",
            "31    17\n",
            "32    16\n",
            "Name: G3, dtype: int64\n"
          ],
          "name": "stdout"
        }
      ]
    },
    {
      "cell_type": "code",
      "metadata": {
        "colab": {
          "base_uri": "https://localhost:8080/"
        },
        "id": "HnGSqb-q4wk8",
        "outputId": "24af9f79-6458-4189-b7b8-15b5f3c4fbc0"
      },
      "source": [
        "print(trainFeatures.head())\n",
        "print(testFeatures.head())"
      ],
      "execution_count": 14,
      "outputs": [
        {
          "output_type": "stream",
          "text": [
            "     G1\n",
            "329  14\n",
            "318  11\n",
            "317   9\n",
            "65   16\n",
            "59   15\n",
            "    G1\n",
            "9   14\n",
            "25   6\n",
            "28  11\n",
            "31  17\n",
            "32  17\n"
          ],
          "name": "stdout"
        }
      ]
    },
    {
      "cell_type": "code",
      "metadata": {
        "id": "XPTSq34jk4o_"
      },
      "source": [
        "model = tf.keras.Sequential([\n",
        "                             tf.keras.layers.Dense(32, activation='relu'),\n",
        "                             tf.keras.layers.Dense(1)\n",
        "])"
      ],
      "execution_count": 59,
      "outputs": []
    },
    {
      "cell_type": "code",
      "metadata": {
        "id": "4C4GKBdE6iCE"
      },
      "source": [
        "model.compile(\n",
        "    loss = 'mean_absolute_error', #minimizing the MAE loss\n",
        "    optimizer = tf.keras.optimizers.Adam(0.001), #learning rate specified as 0.001\n",
        "    # optimizer = 'adam', #takes the default learning rate\n",
        "    metrics = ['mae', 'mse'] #meanSquare and meanAbsolute error metrics\n",
        ")"
      ],
      "execution_count": 60,
      "outputs": []
    },
    {
      "cell_type": "code",
      "metadata": {
        "colab": {
          "base_uri": "https://localhost:8080/"
        },
        "id": "d_A7DrhB6zvm",
        "outputId": "e77fcbc9-cf44-406e-c19f-f35f43ac6af3"
      },
      "source": [
        "numEpochs = 300\n",
        "history = model.fit(x = trainFeatures, y = trainLabels, validation_data = (testFeatures, testLabels), epochs = numEpochs)"
      ],
      "execution_count": 61,
      "outputs": [
        {
          "output_type": "stream",
          "text": [
            "Epoch 1/300\n",
            "10/10 [==============================] - 0s 17ms/step - loss: 8.7494 - mae: 8.7494 - mse: 89.3928 - val_loss: 8.8110 - val_mae: 8.8110 - val_mse: 89.2662\n",
            "Epoch 2/300\n",
            "10/10 [==============================] - 0s 5ms/step - loss: 8.1911 - mae: 8.1911 - mse: 77.8440 - val_loss: 8.1921 - val_mae: 8.1921 - val_mse: 76.5624\n",
            "Epoch 3/300\n",
            "10/10 [==============================] - 0s 4ms/step - loss: 7.6298 - mae: 7.6298 - mse: 66.8031 - val_loss: 7.5765 - val_mae: 7.5765 - val_mse: 64.9736\n",
            "Epoch 4/300\n",
            "10/10 [==============================] - 0s 4ms/step - loss: 7.0615 - mae: 7.0615 - mse: 56.8493 - val_loss: 6.9908 - val_mae: 6.9908 - val_mse: 54.9103\n",
            "Epoch 5/300\n",
            "10/10 [==============================] - 0s 5ms/step - loss: 6.5344 - mae: 6.5344 - mse: 48.3778 - val_loss: 6.3919 - val_mae: 6.3919 - val_mse: 45.6012\n",
            "Epoch 6/300\n",
            "10/10 [==============================] - 0s 4ms/step - loss: 5.9909 - mae: 5.9909 - mse: 40.4073 - val_loss: 5.7844 - val_mae: 5.7844 - val_mse: 37.1634\n",
            "Epoch 7/300\n",
            "10/10 [==============================] - 0s 4ms/step - loss: 5.4420 - mae: 5.4420 - mse: 33.3644 - val_loss: 5.2075 - val_mae: 5.2075 - val_mse: 30.0859\n",
            "Epoch 8/300\n",
            "10/10 [==============================] - 0s 4ms/step - loss: 4.9132 - mae: 4.9132 - mse: 27.2896 - val_loss: 4.6170 - val_mae: 4.6170 - val_mse: 23.7947\n",
            "Epoch 9/300\n",
            "10/10 [==============================] - 0s 4ms/step - loss: 4.3716 - mae: 4.3716 - mse: 22.0874 - val_loss: 4.0242 - val_mae: 4.0242 - val_mse: 18.3450\n",
            "Epoch 10/300\n",
            "10/10 [==============================] - 0s 5ms/step - loss: 3.8118 - mae: 3.8118 - mse: 17.4327 - val_loss: 3.4279 - val_mae: 3.4279 - val_mse: 13.8804\n",
            "Epoch 11/300\n",
            "10/10 [==============================] - 0s 4ms/step - loss: 3.2784 - mae: 3.2784 - mse: 13.8762 - val_loss: 2.8172 - val_mae: 2.8172 - val_mse: 10.3290\n",
            "Epoch 12/300\n",
            "10/10 [==============================] - 0s 5ms/step - loss: 2.7411 - mae: 2.7411 - mse: 11.0400 - val_loss: 2.2594 - val_mae: 2.2594 - val_mse: 7.9346\n",
            "Epoch 13/300\n",
            "10/10 [==============================] - 0s 4ms/step - loss: 2.3088 - mae: 2.3088 - mse: 9.3128 - val_loss: 1.7789 - val_mae: 1.7789 - val_mse: 6.6062\n",
            "Epoch 14/300\n",
            "10/10 [==============================] - 0s 4ms/step - loss: 2.0243 - mae: 2.0243 - mse: 8.4969 - val_loss: 1.5956 - val_mae: 1.5956 - val_mse: 6.2150\n",
            "Epoch 15/300\n",
            "10/10 [==============================] - 0s 4ms/step - loss: 1.9005 - mae: 1.9005 - mse: 8.3488 - val_loss: 1.5944 - val_mae: 1.5944 - val_mse: 6.2799\n",
            "Epoch 16/300\n",
            "10/10 [==============================] - 0s 4ms/step - loss: 1.8627 - mae: 1.8627 - mse: 8.4284 - val_loss: 1.6260 - val_mae: 1.6260 - val_mse: 6.4405\n",
            "Epoch 17/300\n",
            "10/10 [==============================] - 0s 4ms/step - loss: 1.8654 - mae: 1.8654 - mse: 8.5543 - val_loss: 1.6372 - val_mae: 1.6372 - val_mse: 6.4876\n",
            "Epoch 18/300\n",
            "10/10 [==============================] - 0s 5ms/step - loss: 1.8647 - mae: 1.8647 - mse: 8.5363 - val_loss: 1.6236 - val_mae: 1.6236 - val_mse: 6.4290\n",
            "Epoch 19/300\n",
            "10/10 [==============================] - 0s 4ms/step - loss: 1.8614 - mae: 1.8614 - mse: 8.4796 - val_loss: 1.6102 - val_mae: 1.6102 - val_mse: 6.3704\n",
            "Epoch 20/300\n",
            "10/10 [==============================] - 0s 4ms/step - loss: 1.8614 - mae: 1.8614 - mse: 8.4593 - val_loss: 1.6099 - val_mae: 1.6099 - val_mse: 6.3681\n",
            "Epoch 21/300\n",
            "10/10 [==============================] - 0s 4ms/step - loss: 1.8611 - mae: 1.8611 - mse: 8.4602 - val_loss: 1.6117 - val_mae: 1.6117 - val_mse: 6.3751\n",
            "Epoch 22/300\n",
            "10/10 [==============================] - 0s 4ms/step - loss: 1.8608 - mae: 1.8608 - mse: 8.4692 - val_loss: 1.6167 - val_mae: 1.6167 - val_mse: 6.3955\n",
            "Epoch 23/300\n",
            "10/10 [==============================] - 0s 4ms/step - loss: 1.8604 - mae: 1.8604 - mse: 8.4752 - val_loss: 1.6128 - val_mae: 1.6128 - val_mse: 6.3781\n",
            "Epoch 24/300\n",
            "10/10 [==============================] - 0s 4ms/step - loss: 1.8603 - mae: 1.8603 - mse: 8.4603 - val_loss: 1.6116 - val_mae: 1.6116 - val_mse: 6.3712\n",
            "Epoch 25/300\n",
            "10/10 [==============================] - 0s 4ms/step - loss: 1.8598 - mae: 1.8598 - mse: 8.4656 - val_loss: 1.6159 - val_mae: 1.6159 - val_mse: 6.3889\n",
            "Epoch 26/300\n",
            "10/10 [==============================] - 0s 4ms/step - loss: 1.8620 - mae: 1.8620 - mse: 8.4921 - val_loss: 1.6178 - val_mae: 1.6178 - val_mse: 6.3956\n",
            "Epoch 27/300\n",
            "10/10 [==============================] - 0s 4ms/step - loss: 1.8601 - mae: 1.8601 - mse: 8.4689 - val_loss: 1.6117 - val_mae: 1.6117 - val_mse: 6.3682\n",
            "Epoch 28/300\n",
            "10/10 [==============================] - 0s 4ms/step - loss: 1.8597 - mae: 1.8597 - mse: 8.4539 - val_loss: 1.6113 - val_mae: 1.6113 - val_mse: 6.3652\n",
            "Epoch 29/300\n",
            "10/10 [==============================] - 0s 4ms/step - loss: 1.8592 - mae: 1.8592 - mse: 8.4621 - val_loss: 1.6141 - val_mae: 1.6141 - val_mse: 6.3761\n",
            "Epoch 30/300\n",
            "10/10 [==============================] - 0s 4ms/step - loss: 1.8593 - mae: 1.8593 - mse: 8.4609 - val_loss: 1.6148 - val_mae: 1.6148 - val_mse: 6.3778\n",
            "Epoch 31/300\n",
            "10/10 [==============================] - 0s 4ms/step - loss: 1.8595 - mae: 1.8595 - mse: 8.4594 - val_loss: 1.6099 - val_mae: 1.6099 - val_mse: 6.3552\n",
            "Epoch 32/300\n",
            "10/10 [==============================] - 0s 5ms/step - loss: 1.8587 - mae: 1.8587 - mse: 8.4557 - val_loss: 1.6153 - val_mae: 1.6153 - val_mse: 6.3777\n",
            "Epoch 33/300\n",
            "10/10 [==============================] - 0s 4ms/step - loss: 1.8591 - mae: 1.8591 - mse: 8.4713 - val_loss: 1.6166 - val_mae: 1.6166 - val_mse: 6.3818\n",
            "Epoch 34/300\n",
            "10/10 [==============================] - 0s 6ms/step - loss: 1.8589 - mae: 1.8589 - mse: 8.4584 - val_loss: 1.6110 - val_mae: 1.6110 - val_mse: 6.3567\n",
            "Epoch 35/300\n",
            "10/10 [==============================] - 0s 5ms/step - loss: 1.8588 - mae: 1.8588 - mse: 8.4553 - val_loss: 1.6100 - val_mae: 1.6100 - val_mse: 6.3508\n",
            "Epoch 36/300\n",
            "10/10 [==============================] - 0s 4ms/step - loss: 1.8587 - mae: 1.8587 - mse: 8.4632 - val_loss: 1.6142 - val_mae: 1.6142 - val_mse: 6.3676\n",
            "Epoch 37/300\n",
            "10/10 [==============================] - 0s 4ms/step - loss: 1.8577 - mae: 1.8577 - mse: 8.4502 - val_loss: 1.6110 - val_mae: 1.6110 - val_mse: 6.3526\n",
            "Epoch 38/300\n",
            "10/10 [==============================] - 0s 4ms/step - loss: 1.8584 - mae: 1.8584 - mse: 8.4419 - val_loss: 1.6075 - val_mae: 1.6075 - val_mse: 6.3356\n",
            "Epoch 39/300\n",
            "10/10 [==============================] - 0s 4ms/step - loss: 1.8589 - mae: 1.8589 - mse: 8.4526 - val_loss: 1.6200 - val_mae: 1.6200 - val_mse: 6.3887\n",
            "Epoch 40/300\n",
            "10/10 [==============================] - 0s 4ms/step - loss: 1.8582 - mae: 1.8582 - mse: 8.4594 - val_loss: 1.6109 - val_mae: 1.6109 - val_mse: 6.3482\n",
            "Epoch 41/300\n",
            "10/10 [==============================] - 0s 4ms/step - loss: 1.8573 - mae: 1.8573 - mse: 8.4536 - val_loss: 1.6134 - val_mae: 1.6134 - val_mse: 6.3575\n",
            "Epoch 42/300\n",
            "10/10 [==============================] - 0s 4ms/step - loss: 1.8564 - mae: 1.8564 - mse: 8.4323 - val_loss: 1.6061 - val_mae: 1.6061 - val_mse: 6.3243\n",
            "Epoch 43/300\n",
            "10/10 [==============================] - 0s 4ms/step - loss: 1.8571 - mae: 1.8571 - mse: 8.4172 - val_loss: 1.6045 - val_mae: 1.6045 - val_mse: 6.3155\n",
            "Epoch 44/300\n",
            "10/10 [==============================] - 0s 4ms/step - loss: 1.8592 - mae: 1.8592 - mse: 8.4464 - val_loss: 1.6173 - val_mae: 1.6173 - val_mse: 6.3700\n",
            "Epoch 45/300\n",
            "10/10 [==============================] - 0s 4ms/step - loss: 1.8563 - mae: 1.8563 - mse: 8.4521 - val_loss: 1.6108 - val_mae: 1.6108 - val_mse: 6.3409\n",
            "Epoch 46/300\n",
            "10/10 [==============================] - 0s 4ms/step - loss: 1.8572 - mae: 1.8572 - mse: 8.4200 - val_loss: 1.6053 - val_mae: 1.6053 - val_mse: 6.3151\n",
            "Epoch 47/300\n",
            "10/10 [==============================] - 0s 4ms/step - loss: 1.8557 - mae: 1.8557 - mse: 8.4282 - val_loss: 1.6122 - val_mae: 1.6122 - val_mse: 6.3438\n",
            "Epoch 48/300\n",
            "10/10 [==============================] - 0s 4ms/step - loss: 1.8557 - mae: 1.8557 - mse: 8.4375 - val_loss: 1.6085 - val_mae: 1.6085 - val_mse: 6.3263\n",
            "Epoch 49/300\n",
            "10/10 [==============================] - 0s 4ms/step - loss: 1.8553 - mae: 1.8553 - mse: 8.4189 - val_loss: 1.6089 - val_mae: 1.6089 - val_mse: 6.3264\n",
            "Epoch 50/300\n",
            "10/10 [==============================] - 0s 4ms/step - loss: 1.8548 - mae: 1.8548 - mse: 8.4322 - val_loss: 1.6104 - val_mae: 1.6104 - val_mse: 6.3318\n",
            "Epoch 51/300\n",
            "10/10 [==============================] - 0s 4ms/step - loss: 1.8549 - mae: 1.8549 - mse: 8.4163 - val_loss: 1.6059 - val_mae: 1.6059 - val_mse: 6.3101\n",
            "Epoch 52/300\n",
            "10/10 [==============================] - 0s 4ms/step - loss: 1.8550 - mae: 1.8550 - mse: 8.4286 - val_loss: 1.6119 - val_mae: 1.6119 - val_mse: 6.3350\n",
            "Epoch 53/300\n",
            "10/10 [==============================] - 0s 4ms/step - loss: 1.8535 - mae: 1.8535 - mse: 8.4246 - val_loss: 1.6066 - val_mae: 1.6066 - val_mse: 6.3106\n",
            "Epoch 54/300\n",
            "10/10 [==============================] - 0s 4ms/step - loss: 1.8543 - mae: 1.8543 - mse: 8.4083 - val_loss: 1.6074 - val_mae: 1.6074 - val_mse: 6.3124\n",
            "Epoch 55/300\n",
            "10/10 [==============================] - 0s 5ms/step - loss: 1.8536 - mae: 1.8536 - mse: 8.4137 - val_loss: 1.6103 - val_mae: 1.6103 - val_mse: 6.3236\n",
            "Epoch 56/300\n",
            "10/10 [==============================] - 0s 4ms/step - loss: 1.8575 - mae: 1.8575 - mse: 8.4010 - val_loss: 1.6017 - val_mae: 1.6017 - val_mse: 6.2841\n",
            "Epoch 57/300\n",
            "10/10 [==============================] - 0s 4ms/step - loss: 1.8535 - mae: 1.8535 - mse: 8.4196 - val_loss: 1.6161 - val_mae: 1.6161 - val_mse: 6.3451\n",
            "Epoch 58/300\n",
            "10/10 [==============================] - 0s 4ms/step - loss: 1.8540 - mae: 1.8540 - mse: 8.4286 - val_loss: 1.6059 - val_mae: 1.6059 - val_mse: 6.2997\n",
            "Epoch 59/300\n",
            "10/10 [==============================] - 0s 4ms/step - loss: 1.8525 - mae: 1.8525 - mse: 8.4069 - val_loss: 1.6076 - val_mae: 1.6076 - val_mse: 6.3059\n",
            "Epoch 60/300\n",
            "10/10 [==============================] - 0s 4ms/step - loss: 1.8529 - mae: 1.8529 - mse: 8.4169 - val_loss: 1.6141 - val_mae: 1.6141 - val_mse: 6.3322\n",
            "Epoch 61/300\n",
            "10/10 [==============================] - 0s 4ms/step - loss: 1.8524 - mae: 1.8524 - mse: 8.4222 - val_loss: 1.6056 - val_mae: 1.6056 - val_mse: 6.2938\n",
            "Epoch 62/300\n",
            "10/10 [==============================] - 0s 4ms/step - loss: 1.8524 - mae: 1.8524 - mse: 8.3882 - val_loss: 1.6029 - val_mae: 1.6029 - val_mse: 6.2798\n",
            "Epoch 63/300\n",
            "10/10 [==============================] - 0s 4ms/step - loss: 1.8519 - mae: 1.8519 - mse: 8.3971 - val_loss: 1.6077 - val_mae: 1.6077 - val_mse: 6.3001\n",
            "Epoch 64/300\n",
            "10/10 [==============================] - 0s 4ms/step - loss: 1.8512 - mae: 1.8512 - mse: 8.3968 - val_loss: 1.6063 - val_mae: 1.6063 - val_mse: 6.2923\n",
            "Epoch 65/300\n",
            "10/10 [==============================] - 0s 5ms/step - loss: 1.8520 - mae: 1.8520 - mse: 8.4155 - val_loss: 1.6086 - val_mae: 1.6086 - val_mse: 6.3004\n",
            "Epoch 66/300\n",
            "10/10 [==============================] - 0s 4ms/step - loss: 1.8513 - mae: 1.8513 - mse: 8.3813 - val_loss: 1.6020 - val_mae: 1.6020 - val_mse: 6.2699\n",
            "Epoch 67/300\n",
            "10/10 [==============================] - 0s 4ms/step - loss: 1.8507 - mae: 1.8507 - mse: 8.3765 - val_loss: 1.6024 - val_mae: 1.6024 - val_mse: 6.2699\n",
            "Epoch 68/300\n",
            "10/10 [==============================] - 0s 4ms/step - loss: 1.8509 - mae: 1.8509 - mse: 8.3922 - val_loss: 1.6054 - val_mae: 1.6054 - val_mse: 6.2818\n",
            "Epoch 69/300\n",
            "10/10 [==============================] - 0s 5ms/step - loss: 1.8524 - mae: 1.8524 - mse: 8.4183 - val_loss: 1.6087 - val_mae: 1.6087 - val_mse: 6.2944\n",
            "Epoch 70/300\n",
            "10/10 [==============================] - 0s 4ms/step - loss: 1.8514 - mae: 1.8514 - mse: 8.3680 - val_loss: 1.5998 - val_mae: 1.5998 - val_mse: 6.2527\n",
            "Epoch 71/300\n",
            "10/10 [==============================] - 0s 4ms/step - loss: 1.8518 - mae: 1.8518 - mse: 8.4066 - val_loss: 1.6136 - val_mae: 1.6136 - val_mse: 6.3115\n",
            "Epoch 72/300\n",
            "10/10 [==============================] - 0s 4ms/step - loss: 1.8498 - mae: 1.8498 - mse: 8.3768 - val_loss: 1.6001 - val_mae: 1.6001 - val_mse: 6.2517\n",
            "Epoch 73/300\n",
            "10/10 [==============================] - 0s 4ms/step - loss: 1.8495 - mae: 1.8495 - mse: 8.3787 - val_loss: 1.6082 - val_mae: 1.6082 - val_mse: 6.2861\n",
            "Epoch 74/300\n",
            "10/10 [==============================] - 0s 4ms/step - loss: 1.8484 - mae: 1.8484 - mse: 8.3817 - val_loss: 1.6026 - val_mae: 1.6026 - val_mse: 6.2595\n",
            "Epoch 75/300\n",
            "10/10 [==============================] - 0s 4ms/step - loss: 1.8486 - mae: 1.8486 - mse: 8.3641 - val_loss: 1.6046 - val_mae: 1.6046 - val_mse: 6.2671\n",
            "Epoch 76/300\n",
            "10/10 [==============================] - 0s 5ms/step - loss: 1.8484 - mae: 1.8484 - mse: 8.3975 - val_loss: 1.6143 - val_mae: 1.6143 - val_mse: 6.3059\n",
            "Epoch 77/300\n",
            "10/10 [==============================] - 0s 4ms/step - loss: 1.8491 - mae: 1.8491 - mse: 8.3815 - val_loss: 1.5981 - val_mae: 1.5981 - val_mse: 6.2316\n",
            "Epoch 78/300\n",
            "10/10 [==============================] - 0s 4ms/step - loss: 1.8471 - mae: 1.8471 - mse: 8.3614 - val_loss: 1.6065 - val_mae: 1.6065 - val_mse: 6.2707\n",
            "Epoch 79/300\n",
            "10/10 [==============================] - 0s 5ms/step - loss: 1.8503 - mae: 1.8503 - mse: 8.4067 - val_loss: 1.6022 - val_mae: 1.6022 - val_mse: 6.2503\n",
            "Epoch 80/300\n",
            "10/10 [==============================] - 0s 4ms/step - loss: 1.8489 - mae: 1.8489 - mse: 8.3408 - val_loss: 1.5970 - val_mae: 1.5970 - val_mse: 6.2198\n",
            "Epoch 81/300\n",
            "10/10 [==============================] - 0s 4ms/step - loss: 1.8447 - mae: 1.8447 - mse: 8.3549 - val_loss: 1.6111 - val_mae: 1.6111 - val_mse: 6.2850\n",
            "Epoch 82/300\n",
            "10/10 [==============================] - 0s 4ms/step - loss: 1.8473 - mae: 1.8473 - mse: 8.3790 - val_loss: 1.6045 - val_mae: 1.6045 - val_mse: 6.2560\n",
            "Epoch 83/300\n",
            "10/10 [==============================] - 0s 4ms/step - loss: 1.8469 - mae: 1.8469 - mse: 8.3599 - val_loss: 1.6036 - val_mae: 1.6036 - val_mse: 6.2506\n",
            "Epoch 84/300\n",
            "10/10 [==============================] - 0s 4ms/step - loss: 1.8471 - mae: 1.8471 - mse: 8.3636 - val_loss: 1.6042 - val_mae: 1.6042 - val_mse: 6.2513\n",
            "Epoch 85/300\n",
            "10/10 [==============================] - 0s 4ms/step - loss: 1.8474 - mae: 1.8474 - mse: 8.3906 - val_loss: 1.6110 - val_mae: 1.6110 - val_mse: 6.2777\n",
            "Epoch 86/300\n",
            "10/10 [==============================] - 0s 4ms/step - loss: 1.8462 - mae: 1.8462 - mse: 8.3639 - val_loss: 1.5997 - val_mae: 1.5997 - val_mse: 6.2281\n",
            "Epoch 87/300\n",
            "10/10 [==============================] - 0s 4ms/step - loss: 1.8451 - mae: 1.8451 - mse: 8.3529 - val_loss: 1.6057 - val_mae: 1.6057 - val_mse: 6.2527\n",
            "Epoch 88/300\n",
            "10/10 [==============================] - 0s 4ms/step - loss: 1.8445 - mae: 1.8445 - mse: 8.3624 - val_loss: 1.6014 - val_mae: 1.6014 - val_mse: 6.2327\n",
            "Epoch 89/300\n",
            "10/10 [==============================] - 0s 4ms/step - loss: 1.8472 - mae: 1.8472 - mse: 8.3333 - val_loss: 1.6046 - val_mae: 1.6046 - val_mse: 6.2452\n",
            "Epoch 90/300\n",
            "10/10 [==============================] - 0s 6ms/step - loss: 1.8442 - mae: 1.8442 - mse: 8.3628 - val_loss: 1.6016 - val_mae: 1.6016 - val_mse: 6.2305\n",
            "Epoch 91/300\n",
            "10/10 [==============================] - 0s 4ms/step - loss: 1.8443 - mae: 1.8443 - mse: 8.3311 - val_loss: 1.6021 - val_mae: 1.6021 - val_mse: 6.2317\n",
            "Epoch 92/300\n",
            "10/10 [==============================] - 0s 4ms/step - loss: 1.8435 - mae: 1.8435 - mse: 8.3594 - val_loss: 1.6034 - val_mae: 1.6034 - val_mse: 6.2355\n",
            "Epoch 93/300\n",
            "10/10 [==============================] - 0s 5ms/step - loss: 1.8437 - mae: 1.8437 - mse: 8.3360 - val_loss: 1.6016 - val_mae: 1.6016 - val_mse: 6.2264\n",
            "Epoch 94/300\n",
            "10/10 [==============================] - 0s 5ms/step - loss: 1.8426 - mae: 1.8426 - mse: 8.3473 - val_loss: 1.5990 - val_mae: 1.5990 - val_mse: 6.2130\n",
            "Epoch 95/300\n",
            "10/10 [==============================] - 0s 5ms/step - loss: 1.8425 - mae: 1.8425 - mse: 8.3205 - val_loss: 1.6006 - val_mae: 1.6006 - val_mse: 6.2189\n",
            "Epoch 96/300\n",
            "10/10 [==============================] - 0s 4ms/step - loss: 1.8417 - mae: 1.8417 - mse: 8.3432 - val_loss: 1.6022 - val_mae: 1.6022 - val_mse: 6.2243\n",
            "Epoch 97/300\n",
            "10/10 [==============================] - 0s 6ms/step - loss: 1.8419 - mae: 1.8419 - mse: 8.3265 - val_loss: 1.5993 - val_mae: 1.5993 - val_mse: 6.2096\n",
            "Epoch 98/300\n",
            "10/10 [==============================] - 0s 4ms/step - loss: 1.8413 - mae: 1.8413 - mse: 8.3276 - val_loss: 1.6010 - val_mae: 1.6010 - val_mse: 6.2157\n",
            "Epoch 99/300\n",
            "10/10 [==============================] - 0s 4ms/step - loss: 1.8430 - mae: 1.8430 - mse: 8.3418 - val_loss: 1.5980 - val_mae: 1.5980 - val_mse: 6.2004\n",
            "Epoch 100/300\n",
            "10/10 [==============================] - 0s 4ms/step - loss: 1.8415 - mae: 1.8415 - mse: 8.3330 - val_loss: 1.6020 - val_mae: 1.6020 - val_mse: 6.2166\n",
            "Epoch 101/300\n",
            "10/10 [==============================] - 0s 4ms/step - loss: 1.8402 - mae: 1.8402 - mse: 8.3134 - val_loss: 1.5971 - val_mae: 1.5971 - val_mse: 6.1932\n",
            "Epoch 102/300\n",
            "10/10 [==============================] - 0s 4ms/step - loss: 1.8410 - mae: 1.8410 - mse: 8.3371 - val_loss: 1.6007 - val_mae: 1.6007 - val_mse: 6.2084\n",
            "Epoch 103/300\n",
            "10/10 [==============================] - 0s 4ms/step - loss: 1.8397 - mae: 1.8397 - mse: 8.3219 - val_loss: 1.5977 - val_mae: 1.5977 - val_mse: 6.1934\n",
            "Epoch 104/300\n",
            "10/10 [==============================] - 0s 4ms/step - loss: 1.8396 - mae: 1.8396 - mse: 8.3180 - val_loss: 1.6012 - val_mae: 1.6012 - val_mse: 6.2076\n",
            "Epoch 105/300\n",
            "10/10 [==============================] - 0s 4ms/step - loss: 1.8398 - mae: 1.8398 - mse: 8.3189 - val_loss: 1.6036 - val_mae: 1.6036 - val_mse: 6.2152\n",
            "Epoch 106/300\n",
            "10/10 [==============================] - 0s 4ms/step - loss: 1.8387 - mae: 1.8387 - mse: 8.3262 - val_loss: 1.5939 - val_mae: 1.5939 - val_mse: 6.1466\n",
            "Epoch 107/300\n",
            "10/10 [==============================] - 0s 4ms/step - loss: 1.8438 - mae: 1.8438 - mse: 8.3095 - val_loss: 1.6046 - val_mae: 1.6046 - val_mse: 6.2161\n",
            "Epoch 108/300\n",
            "10/10 [==============================] - 0s 5ms/step - loss: 1.8429 - mae: 1.8429 - mse: 8.2896 - val_loss: 1.5949 - val_mae: 1.5949 - val_mse: 6.1670\n",
            "Epoch 109/300\n",
            "10/10 [==============================] - 0s 5ms/step - loss: 1.8411 - mae: 1.8411 - mse: 8.3390 - val_loss: 1.5961 - val_mae: 1.5961 - val_mse: 6.1778\n",
            "Epoch 110/300\n",
            "10/10 [==============================] - 0s 5ms/step - loss: 1.8409 - mae: 1.8409 - mse: 8.2836 - val_loss: 1.6015 - val_mae: 1.6015 - val_mse: 6.2015\n",
            "Epoch 111/300\n",
            "10/10 [==============================] - 0s 4ms/step - loss: 1.8383 - mae: 1.8383 - mse: 8.3208 - val_loss: 1.5953 - val_mae: 1.5953 - val_mse: 6.1704\n",
            "Epoch 112/300\n",
            "10/10 [==============================] - 0s 4ms/step - loss: 1.8394 - mae: 1.8394 - mse: 8.3153 - val_loss: 1.5946 - val_mae: 1.5946 - val_mse: 6.1587\n",
            "Epoch 113/300\n",
            "10/10 [==============================] - 0s 4ms/step - loss: 1.8404 - mae: 1.8404 - mse: 8.3174 - val_loss: 1.5950 - val_mae: 1.5950 - val_mse: 6.1656\n",
            "Epoch 114/300\n",
            "10/10 [==============================] - 0s 5ms/step - loss: 1.8479 - mae: 1.8479 - mse: 8.2666 - val_loss: 1.5957 - val_mae: 1.5957 - val_mse: 6.1713\n",
            "Epoch 115/300\n",
            "10/10 [==============================] - 0s 6ms/step - loss: 1.8431 - mae: 1.8431 - mse: 8.3304 - val_loss: 1.5942 - val_mae: 1.5942 - val_mse: 6.1482\n",
            "Epoch 116/300\n",
            "10/10 [==============================] - 0s 4ms/step - loss: 1.8378 - mae: 1.8378 - mse: 8.2954 - val_loss: 1.5977 - val_mae: 1.5977 - val_mse: 6.1803\n",
            "Epoch 117/300\n",
            "10/10 [==============================] - 0s 5ms/step - loss: 1.8363 - mae: 1.8363 - mse: 8.2994 - val_loss: 1.5983 - val_mae: 1.5983 - val_mse: 6.1815\n",
            "Epoch 118/300\n",
            "10/10 [==============================] - 0s 4ms/step - loss: 1.8368 - mae: 1.8368 - mse: 8.3034 - val_loss: 1.6012 - val_mae: 1.6012 - val_mse: 6.1906\n",
            "Epoch 119/300\n",
            "10/10 [==============================] - 0s 4ms/step - loss: 1.8368 - mae: 1.8368 - mse: 8.2996 - val_loss: 1.5953 - val_mae: 1.5953 - val_mse: 6.1635\n",
            "Epoch 120/300\n",
            "10/10 [==============================] - 0s 5ms/step - loss: 1.8355 - mae: 1.8355 - mse: 8.3014 - val_loss: 1.5971 - val_mae: 1.5971 - val_mse: 6.1724\n",
            "Epoch 121/300\n",
            "10/10 [==============================] - 0s 4ms/step - loss: 1.8362 - mae: 1.8362 - mse: 8.3003 - val_loss: 1.5949 - val_mae: 1.5949 - val_mse: 6.1580\n",
            "Epoch 122/300\n",
            "10/10 [==============================] - 0s 5ms/step - loss: 1.8353 - mae: 1.8353 - mse: 8.2880 - val_loss: 1.5955 - val_mae: 1.5955 - val_mse: 6.1622\n",
            "Epoch 123/300\n",
            "10/10 [==============================] - 0s 4ms/step - loss: 1.8347 - mae: 1.8347 - mse: 8.2893 - val_loss: 1.5946 - val_mae: 1.5946 - val_mse: 6.1483\n",
            "Epoch 124/300\n",
            "10/10 [==============================] - 0s 4ms/step - loss: 1.8347 - mae: 1.8347 - mse: 8.2901 - val_loss: 1.5950 - val_mae: 1.5950 - val_mse: 6.1568\n",
            "Epoch 125/300\n",
            "10/10 [==============================] - 0s 4ms/step - loss: 1.8360 - mae: 1.8360 - mse: 8.2935 - val_loss: 1.5979 - val_mae: 1.5979 - val_mse: 6.1687\n",
            "Epoch 126/300\n",
            "10/10 [==============================] - 0s 5ms/step - loss: 1.8371 - mae: 1.8371 - mse: 8.2898 - val_loss: 1.6048 - val_mae: 1.6048 - val_mse: 6.1859\n",
            "Epoch 127/300\n",
            "10/10 [==============================] - 0s 5ms/step - loss: 1.8366 - mae: 1.8366 - mse: 8.2835 - val_loss: 1.6005 - val_mae: 1.6005 - val_mse: 6.1738\n",
            "Epoch 128/300\n",
            "10/10 [==============================] - 0s 4ms/step - loss: 1.8338 - mae: 1.8338 - mse: 8.2871 - val_loss: 1.5948 - val_mae: 1.5948 - val_mse: 6.1486\n",
            "Epoch 129/300\n",
            "10/10 [==============================] - 0s 4ms/step - loss: 1.8342 - mae: 1.8342 - mse: 8.2886 - val_loss: 1.5955 - val_mae: 1.5955 - val_mse: 6.1571\n",
            "Epoch 130/300\n",
            "10/10 [==============================] - 0s 4ms/step - loss: 1.8333 - mae: 1.8333 - mse: 8.2844 - val_loss: 1.5948 - val_mae: 1.5948 - val_mse: 6.1497\n",
            "Epoch 131/300\n",
            "10/10 [==============================] - 0s 4ms/step - loss: 1.8351 - mae: 1.8351 - mse: 8.2822 - val_loss: 1.5949 - val_mae: 1.5949 - val_mse: 6.1483\n",
            "Epoch 132/300\n",
            "10/10 [==============================] - 0s 5ms/step - loss: 1.8365 - mae: 1.8365 - mse: 8.2810 - val_loss: 1.5994 - val_mae: 1.5994 - val_mse: 6.1673\n",
            "Epoch 133/300\n",
            "10/10 [==============================] - 0s 4ms/step - loss: 1.8372 - mae: 1.8372 - mse: 8.2831 - val_loss: 1.5976 - val_mae: 1.5976 - val_mse: 6.1625\n",
            "Epoch 134/300\n",
            "10/10 [==============================] - 0s 4ms/step - loss: 1.8375 - mae: 1.8375 - mse: 8.2794 - val_loss: 1.5954 - val_mae: 1.5954 - val_mse: 6.1317\n",
            "Epoch 135/300\n",
            "10/10 [==============================] - 0s 4ms/step - loss: 1.8358 - mae: 1.8358 - mse: 8.2760 - val_loss: 1.5953 - val_mae: 1.5953 - val_mse: 6.1333\n",
            "Epoch 136/300\n",
            "10/10 [==============================] - 0s 4ms/step - loss: 1.8354 - mae: 1.8354 - mse: 8.2832 - val_loss: 1.5951 - val_mae: 1.5951 - val_mse: 6.1396\n",
            "Epoch 137/300\n",
            "10/10 [==============================] - 0s 6ms/step - loss: 1.8353 - mae: 1.8353 - mse: 8.2855 - val_loss: 1.5959 - val_mae: 1.5959 - val_mse: 6.1586\n",
            "Epoch 138/300\n",
            "10/10 [==============================] - 0s 5ms/step - loss: 1.8360 - mae: 1.8360 - mse: 8.2809 - val_loss: 1.5949 - val_mae: 1.5949 - val_mse: 6.1467\n",
            "Epoch 139/300\n",
            "10/10 [==============================] - 0s 4ms/step - loss: 1.8374 - mae: 1.8374 - mse: 8.2827 - val_loss: 1.5951 - val_mae: 1.5951 - val_mse: 6.1381\n",
            "Epoch 140/300\n",
            "10/10 [==============================] - 0s 4ms/step - loss: 1.8370 - mae: 1.8370 - mse: 8.2846 - val_loss: 1.5959 - val_mae: 1.5959 - val_mse: 6.1184\n",
            "Epoch 141/300\n",
            "10/10 [==============================] - 0s 4ms/step - loss: 1.8393 - mae: 1.8393 - mse: 8.2783 - val_loss: 1.5948 - val_mae: 1.5948 - val_mse: 6.1489\n",
            "Epoch 142/300\n",
            "10/10 [==============================] - 0s 4ms/step - loss: 1.8376 - mae: 1.8376 - mse: 8.2738 - val_loss: 1.6028 - val_mae: 1.6028 - val_mse: 6.1789\n",
            "Epoch 143/300\n",
            "10/10 [==============================] - 0s 4ms/step - loss: 1.8350 - mae: 1.8350 - mse: 8.2809 - val_loss: 1.5967 - val_mae: 1.5967 - val_mse: 6.1624\n",
            "Epoch 144/300\n",
            "10/10 [==============================] - 0s 4ms/step - loss: 1.8356 - mae: 1.8356 - mse: 8.2900 - val_loss: 1.5963 - val_mae: 1.5963 - val_mse: 6.1607\n",
            "Epoch 145/300\n",
            "10/10 [==============================] - 0s 5ms/step - loss: 1.8366 - mae: 1.8366 - mse: 8.2830 - val_loss: 1.5962 - val_mae: 1.5962 - val_mse: 6.1602\n",
            "Epoch 146/300\n",
            "10/10 [==============================] - 0s 5ms/step - loss: 1.8335 - mae: 1.8335 - mse: 8.2846 - val_loss: 1.5966 - val_mae: 1.5966 - val_mse: 6.1611\n",
            "Epoch 147/300\n",
            "10/10 [==============================] - 0s 5ms/step - loss: 1.8342 - mae: 1.8342 - mse: 8.2882 - val_loss: 1.5948 - val_mae: 1.5948 - val_mse: 6.1496\n",
            "Epoch 148/300\n",
            "10/10 [==============================] - 0s 5ms/step - loss: 1.8338 - mae: 1.8338 - mse: 8.2845 - val_loss: 1.5949 - val_mae: 1.5949 - val_mse: 6.1494\n",
            "Epoch 149/300\n",
            "10/10 [==============================] - 0s 5ms/step - loss: 1.8361 - mae: 1.8361 - mse: 8.2867 - val_loss: 1.6058 - val_mae: 1.6058 - val_mse: 6.1839\n",
            "Epoch 150/300\n",
            "10/10 [==============================] - 0s 5ms/step - loss: 1.8372 - mae: 1.8372 - mse: 8.2899 - val_loss: 1.5952 - val_mae: 1.5952 - val_mse: 6.1545\n",
            "Epoch 151/300\n",
            "10/10 [==============================] - 0s 5ms/step - loss: 1.8364 - mae: 1.8364 - mse: 8.2857 - val_loss: 1.5984 - val_mae: 1.5984 - val_mse: 6.1632\n",
            "Epoch 152/300\n",
            "10/10 [==============================] - 0s 5ms/step - loss: 1.8377 - mae: 1.8377 - mse: 8.2871 - val_loss: 1.5964 - val_mae: 1.5964 - val_mse: 6.1576\n",
            "Epoch 153/300\n",
            "10/10 [==============================] - 0s 5ms/step - loss: 1.8343 - mae: 1.8343 - mse: 8.2848 - val_loss: 1.5952 - val_mae: 1.5952 - val_mse: 6.1422\n",
            "Epoch 154/300\n",
            "10/10 [==============================] - 0s 5ms/step - loss: 1.8350 - mae: 1.8350 - mse: 8.2797 - val_loss: 1.5949 - val_mae: 1.5949 - val_mse: 6.1520\n",
            "Epoch 155/300\n",
            "10/10 [==============================] - 0s 4ms/step - loss: 1.8367 - mae: 1.8367 - mse: 8.2798 - val_loss: 1.5956 - val_mae: 1.5956 - val_mse: 6.1284\n",
            "Epoch 156/300\n",
            "10/10 [==============================] - 0s 5ms/step - loss: 1.8431 - mae: 1.8431 - mse: 8.3106 - val_loss: 1.5956 - val_mae: 1.5956 - val_mse: 6.1562\n",
            "Epoch 157/300\n",
            "10/10 [==============================] - 0s 5ms/step - loss: 1.8436 - mae: 1.8436 - mse: 8.2375 - val_loss: 1.5953 - val_mae: 1.5953 - val_mse: 6.1365\n",
            "Epoch 158/300\n",
            "10/10 [==============================] - 0s 5ms/step - loss: 1.8363 - mae: 1.8363 - mse: 8.2838 - val_loss: 1.5952 - val_mae: 1.5952 - val_mse: 6.1383\n",
            "Epoch 159/300\n",
            "10/10 [==============================] - 0s 7ms/step - loss: 1.8350 - mae: 1.8350 - mse: 8.2828 - val_loss: 1.5950 - val_mae: 1.5950 - val_mse: 6.1461\n",
            "Epoch 160/300\n",
            "10/10 [==============================] - 0s 5ms/step - loss: 1.8352 - mae: 1.8352 - mse: 8.2827 - val_loss: 1.5963 - val_mae: 1.5963 - val_mse: 6.1583\n",
            "Epoch 161/300\n",
            "10/10 [==============================] - 0s 5ms/step - loss: 1.8342 - mae: 1.8342 - mse: 8.2811 - val_loss: 1.5955 - val_mae: 1.5955 - val_mse: 6.1310\n",
            "Epoch 162/300\n",
            "10/10 [==============================] - 0s 4ms/step - loss: 1.8360 - mae: 1.8360 - mse: 8.2697 - val_loss: 1.5949 - val_mae: 1.5949 - val_mse: 6.1527\n",
            "Epoch 163/300\n",
            "10/10 [==============================] - 0s 4ms/step - loss: 1.8338 - mae: 1.8338 - mse: 8.2822 - val_loss: 1.5950 - val_mae: 1.5950 - val_mse: 6.1444\n",
            "Epoch 164/300\n",
            "10/10 [==============================] - 0s 5ms/step - loss: 1.8368 - mae: 1.8368 - mse: 8.2937 - val_loss: 1.5955 - val_mae: 1.5955 - val_mse: 6.1319\n",
            "Epoch 165/300\n",
            "10/10 [==============================] - 0s 4ms/step - loss: 1.8367 - mae: 1.8367 - mse: 8.2841 - val_loss: 1.5949 - val_mae: 1.5949 - val_mse: 6.1490\n",
            "Epoch 166/300\n",
            "10/10 [==============================] - 0s 5ms/step - loss: 1.8337 - mae: 1.8337 - mse: 8.2818 - val_loss: 1.5965 - val_mae: 1.5965 - val_mse: 6.1585\n",
            "Epoch 167/300\n",
            "10/10 [==============================] - 0s 4ms/step - loss: 1.8376 - mae: 1.8376 - mse: 8.2775 - val_loss: 1.6099 - val_mae: 1.6099 - val_mse: 6.1958\n",
            "Epoch 168/300\n",
            "10/10 [==============================] - 0s 5ms/step - loss: 1.8443 - mae: 1.8443 - mse: 8.3002 - val_loss: 1.5958 - val_mae: 1.5958 - val_mse: 6.1254\n",
            "Epoch 169/300\n",
            "10/10 [==============================] - 0s 4ms/step - loss: 1.8377 - mae: 1.8377 - mse: 8.2931 - val_loss: 1.5953 - val_mae: 1.5953 - val_mse: 6.1379\n",
            "Epoch 170/300\n",
            "10/10 [==============================] - 0s 5ms/step - loss: 1.8389 - mae: 1.8389 - mse: 8.2695 - val_loss: 1.6058 - val_mae: 1.6058 - val_mse: 6.1842\n",
            "Epoch 171/300\n",
            "10/10 [==============================] - 0s 5ms/step - loss: 1.8368 - mae: 1.8368 - mse: 8.2766 - val_loss: 1.5949 - val_mae: 1.5949 - val_mse: 6.1464\n",
            "Epoch 172/300\n",
            "10/10 [==============================] - 0s 4ms/step - loss: 1.8334 - mae: 1.8334 - mse: 8.2841 - val_loss: 1.5981 - val_mae: 1.5981 - val_mse: 6.1635\n",
            "Epoch 173/300\n",
            "10/10 [==============================] - 0s 5ms/step - loss: 1.8350 - mae: 1.8350 - mse: 8.2786 - val_loss: 1.6031 - val_mae: 1.6031 - val_mse: 6.1774\n",
            "Epoch 174/300\n",
            "10/10 [==============================] - 0s 5ms/step - loss: 1.8417 - mae: 1.8417 - mse: 8.3077 - val_loss: 1.5969 - val_mae: 1.5969 - val_mse: 6.0957\n",
            "Epoch 175/300\n",
            "10/10 [==============================] - 0s 5ms/step - loss: 1.8446 - mae: 1.8446 - mse: 8.2596 - val_loss: 1.6072 - val_mae: 1.6072 - val_mse: 6.1890\n",
            "Epoch 176/300\n",
            "10/10 [==============================] - 0s 4ms/step - loss: 1.8374 - mae: 1.8374 - mse: 8.2956 - val_loss: 1.5949 - val_mae: 1.5949 - val_mse: 6.1531\n",
            "Epoch 177/300\n",
            "10/10 [==============================] - 0s 4ms/step - loss: 1.8335 - mae: 1.8335 - mse: 8.2812 - val_loss: 1.5983 - val_mae: 1.5983 - val_mse: 6.1642\n",
            "Epoch 178/300\n",
            "10/10 [==============================] - 0s 5ms/step - loss: 1.8347 - mae: 1.8347 - mse: 8.2872 - val_loss: 1.6014 - val_mae: 1.6014 - val_mse: 6.1723\n",
            "Epoch 179/300\n",
            "10/10 [==============================] - 0s 5ms/step - loss: 1.8356 - mae: 1.8356 - mse: 8.2891 - val_loss: 1.5951 - val_mae: 1.5951 - val_mse: 6.1407\n",
            "Epoch 180/300\n",
            "10/10 [==============================] - 0s 5ms/step - loss: 1.8349 - mae: 1.8349 - mse: 8.2853 - val_loss: 1.5985 - val_mae: 1.5985 - val_mse: 6.1642\n",
            "Epoch 181/300\n",
            "10/10 [==============================] - 0s 5ms/step - loss: 1.8362 - mae: 1.8362 - mse: 8.2801 - val_loss: 1.6066 - val_mae: 1.6066 - val_mse: 6.1866\n",
            "Epoch 182/300\n",
            "10/10 [==============================] - 0s 5ms/step - loss: 1.8408 - mae: 1.8408 - mse: 8.2719 - val_loss: 1.5972 - val_mae: 1.5972 - val_mse: 6.0873\n",
            "Epoch 183/300\n",
            "10/10 [==============================] - 0s 5ms/step - loss: 1.8450 - mae: 1.8450 - mse: 8.2530 - val_loss: 1.6077 - val_mae: 1.6077 - val_mse: 6.1902\n",
            "Epoch 184/300\n",
            "10/10 [==============================] - 0s 4ms/step - loss: 1.8363 - mae: 1.8363 - mse: 8.2829 - val_loss: 1.6012 - val_mae: 1.6012 - val_mse: 6.1721\n",
            "Epoch 185/300\n",
            "10/10 [==============================] - 0s 4ms/step - loss: 1.8364 - mae: 1.8364 - mse: 8.2853 - val_loss: 1.5957 - val_mae: 1.5957 - val_mse: 6.1572\n",
            "Epoch 186/300\n",
            "10/10 [==============================] - 0s 5ms/step - loss: 1.8362 - mae: 1.8362 - mse: 8.2897 - val_loss: 1.5981 - val_mae: 1.5981 - val_mse: 6.1641\n",
            "Epoch 187/300\n",
            "10/10 [==============================] - 0s 4ms/step - loss: 1.8374 - mae: 1.8374 - mse: 8.2793 - val_loss: 1.6028 - val_mae: 1.6028 - val_mse: 6.1775\n",
            "Epoch 188/300\n",
            "10/10 [==============================] - 0s 4ms/step - loss: 1.8381 - mae: 1.8381 - mse: 8.2823 - val_loss: 1.6016 - val_mae: 1.6016 - val_mse: 6.1743\n",
            "Epoch 189/300\n",
            "10/10 [==============================] - 0s 5ms/step - loss: 1.8344 - mae: 1.8344 - mse: 8.2885 - val_loss: 1.5948 - val_mae: 1.5948 - val_mse: 6.1499\n",
            "Epoch 190/300\n",
            "10/10 [==============================] - 0s 5ms/step - loss: 1.8351 - mae: 1.8351 - mse: 8.2807 - val_loss: 1.5965 - val_mae: 1.5965 - val_mse: 6.1603\n",
            "Epoch 191/300\n",
            "10/10 [==============================] - 0s 4ms/step - loss: 1.8341 - mae: 1.8341 - mse: 8.2866 - val_loss: 1.6008 - val_mae: 1.6008 - val_mse: 6.1714\n",
            "Epoch 192/300\n",
            "10/10 [==============================] - 0s 4ms/step - loss: 1.8376 - mae: 1.8376 - mse: 8.2814 - val_loss: 1.6055 - val_mae: 1.6055 - val_mse: 6.1842\n",
            "Epoch 193/300\n",
            "10/10 [==============================] - 0s 4ms/step - loss: 1.8349 - mae: 1.8349 - mse: 8.2842 - val_loss: 1.6025 - val_mae: 1.6025 - val_mse: 6.1754\n",
            "Epoch 194/300\n",
            "10/10 [==============================] - 0s 5ms/step - loss: 1.8371 - mae: 1.8371 - mse: 8.2806 - val_loss: 1.5994 - val_mae: 1.5994 - val_mse: 6.1670\n",
            "Epoch 195/300\n",
            "10/10 [==============================] - 0s 4ms/step - loss: 1.8368 - mae: 1.8368 - mse: 8.2887 - val_loss: 1.6068 - val_mae: 1.6068 - val_mse: 6.1877\n",
            "Epoch 196/300\n",
            "10/10 [==============================] - 0s 4ms/step - loss: 1.8403 - mae: 1.8403 - mse: 8.3070 - val_loss: 1.5960 - val_mae: 1.5960 - val_mse: 6.1163\n",
            "Epoch 197/300\n",
            "10/10 [==============================] - 0s 4ms/step - loss: 1.8398 - mae: 1.8398 - mse: 8.2710 - val_loss: 1.5950 - val_mae: 1.5950 - val_mse: 6.1539\n",
            "Epoch 198/300\n",
            "10/10 [==============================] - 0s 5ms/step - loss: 1.8337 - mae: 1.8337 - mse: 8.2877 - val_loss: 1.5949 - val_mae: 1.5949 - val_mse: 6.1463\n",
            "Epoch 199/300\n",
            "10/10 [==============================] - 0s 4ms/step - loss: 1.8335 - mae: 1.8335 - mse: 8.2837 - val_loss: 1.5956 - val_mae: 1.5956 - val_mse: 6.1561\n",
            "Epoch 200/300\n",
            "10/10 [==============================] - 0s 4ms/step - loss: 1.8335 - mae: 1.8335 - mse: 8.2832 - val_loss: 1.5949 - val_mae: 1.5949 - val_mse: 6.1489\n",
            "Epoch 201/300\n",
            "10/10 [==============================] - 0s 4ms/step - loss: 1.8346 - mae: 1.8346 - mse: 8.2845 - val_loss: 1.5955 - val_mae: 1.5955 - val_mse: 6.1333\n",
            "Epoch 202/300\n",
            "10/10 [==============================] - 0s 4ms/step - loss: 1.8347 - mae: 1.8347 - mse: 8.2763 - val_loss: 1.5950 - val_mae: 1.5950 - val_mse: 6.1478\n",
            "Epoch 203/300\n",
            "10/10 [==============================] - 0s 4ms/step - loss: 1.8366 - mae: 1.8366 - mse: 8.2860 - val_loss: 1.5962 - val_mae: 1.5962 - val_mse: 6.1141\n",
            "Epoch 204/300\n",
            "10/10 [==============================] - 0s 5ms/step - loss: 1.8404 - mae: 1.8404 - mse: 8.2593 - val_loss: 1.6056 - val_mae: 1.6056 - val_mse: 6.1835\n",
            "Epoch 205/300\n",
            "10/10 [==============================] - 0s 4ms/step - loss: 1.8357 - mae: 1.8357 - mse: 8.2903 - val_loss: 1.5949 - val_mae: 1.5949 - val_mse: 6.1527\n",
            "Epoch 206/300\n",
            "10/10 [==============================] - 0s 4ms/step - loss: 1.8347 - mae: 1.8347 - mse: 8.2840 - val_loss: 1.6010 - val_mae: 1.6010 - val_mse: 6.1707\n",
            "Epoch 207/300\n",
            "10/10 [==============================] - 0s 5ms/step - loss: 1.8386 - mae: 1.8386 - mse: 8.2943 - val_loss: 1.5957 - val_mae: 1.5957 - val_mse: 6.1263\n",
            "Epoch 208/300\n",
            "10/10 [==============================] - 0s 5ms/step - loss: 1.8380 - mae: 1.8380 - mse: 8.2856 - val_loss: 1.5958 - val_mae: 1.5958 - val_mse: 6.1241\n",
            "Epoch 209/300\n",
            "10/10 [==============================] - 0s 5ms/step - loss: 1.8409 - mae: 1.8409 - mse: 8.2590 - val_loss: 1.6061 - val_mae: 1.6061 - val_mse: 6.1855\n",
            "Epoch 210/300\n",
            "10/10 [==============================] - 0s 5ms/step - loss: 1.8465 - mae: 1.8465 - mse: 8.2709 - val_loss: 1.5955 - val_mae: 1.5955 - val_mse: 6.1299\n",
            "Epoch 211/300\n",
            "10/10 [==============================] - 0s 5ms/step - loss: 1.8373 - mae: 1.8373 - mse: 8.2956 - val_loss: 1.5950 - val_mae: 1.5950 - val_mse: 6.1419\n",
            "Epoch 212/300\n",
            "10/10 [==============================] - 0s 5ms/step - loss: 1.8347 - mae: 1.8347 - mse: 8.2850 - val_loss: 1.5949 - val_mae: 1.5949 - val_mse: 6.1452\n",
            "Epoch 213/300\n",
            "10/10 [==============================] - 0s 5ms/step - loss: 1.8380 - mae: 1.8380 - mse: 8.2939 - val_loss: 1.5956 - val_mae: 1.5956 - val_mse: 6.1262\n",
            "Epoch 214/300\n",
            "10/10 [==============================] - 0s 5ms/step - loss: 1.8387 - mae: 1.8387 - mse: 8.2703 - val_loss: 1.6052 - val_mae: 1.6052 - val_mse: 6.1844\n",
            "Epoch 215/300\n",
            "10/10 [==============================] - 0s 4ms/step - loss: 1.8354 - mae: 1.8354 - mse: 8.2896 - val_loss: 1.5949 - val_mae: 1.5949 - val_mse: 6.1448\n",
            "Epoch 216/300\n",
            "10/10 [==============================] - 0s 4ms/step - loss: 1.8360 - mae: 1.8360 - mse: 8.2733 - val_loss: 1.6070 - val_mae: 1.6070 - val_mse: 6.1894\n",
            "Epoch 217/300\n",
            "10/10 [==============================] - 0s 4ms/step - loss: 1.8401 - mae: 1.8401 - mse: 8.2748 - val_loss: 1.5953 - val_mae: 1.5953 - val_mse: 6.1326\n",
            "Epoch 218/300\n",
            "10/10 [==============================] - 0s 7ms/step - loss: 1.8409 - mae: 1.8409 - mse: 8.3131 - val_loss: 1.5950 - val_mae: 1.5950 - val_mse: 6.1406\n",
            "Epoch 219/300\n",
            "10/10 [==============================] - 0s 4ms/step - loss: 1.8438 - mae: 1.8438 - mse: 8.2767 - val_loss: 1.6063 - val_mae: 1.6063 - val_mse: 6.1885\n",
            "Epoch 220/300\n",
            "10/10 [==============================] - 0s 5ms/step - loss: 1.8366 - mae: 1.8366 - mse: 8.2963 - val_loss: 1.5948 - val_mae: 1.5948 - val_mse: 6.1508\n",
            "Epoch 221/300\n",
            "10/10 [==============================] - 0s 5ms/step - loss: 1.8422 - mae: 1.8422 - mse: 8.2686 - val_loss: 1.6086 - val_mae: 1.6086 - val_mse: 6.1951\n",
            "Epoch 222/300\n",
            "10/10 [==============================] - 0s 5ms/step - loss: 1.8433 - mae: 1.8433 - mse: 8.3051 - val_loss: 1.5957 - val_mae: 1.5957 - val_mse: 6.1228\n",
            "Epoch 223/300\n",
            "10/10 [==============================] - 0s 5ms/step - loss: 1.8368 - mae: 1.8368 - mse: 8.2792 - val_loss: 1.5949 - val_mae: 1.5949 - val_mse: 6.1443\n",
            "Epoch 224/300\n",
            "10/10 [==============================] - 0s 4ms/step - loss: 1.8357 - mae: 1.8357 - mse: 8.2781 - val_loss: 1.5953 - val_mae: 1.5953 - val_mse: 6.1335\n",
            "Epoch 225/300\n",
            "10/10 [==============================] - 0s 5ms/step - loss: 1.8351 - mae: 1.8351 - mse: 8.2795 - val_loss: 1.5948 - val_mae: 1.5948 - val_mse: 6.1500\n",
            "Epoch 226/300\n",
            "10/10 [==============================] - 0s 5ms/step - loss: 1.8353 - mae: 1.8353 - mse: 8.2932 - val_loss: 1.5986 - val_mae: 1.5986 - val_mse: 6.1670\n",
            "Epoch 227/300\n",
            "10/10 [==============================] - 0s 4ms/step - loss: 1.8343 - mae: 1.8343 - mse: 8.2838 - val_loss: 1.5949 - val_mae: 1.5949 - val_mse: 6.1464\n",
            "Epoch 228/300\n",
            "10/10 [==============================] - 0s 4ms/step - loss: 1.8366 - mae: 1.8366 - mse: 8.2733 - val_loss: 1.6053 - val_mae: 1.6053 - val_mse: 6.1843\n",
            "Epoch 229/300\n",
            "10/10 [==============================] - 0s 4ms/step - loss: 1.8372 - mae: 1.8372 - mse: 8.2851 - val_loss: 1.6023 - val_mae: 1.6023 - val_mse: 6.1763\n",
            "Epoch 230/300\n",
            "10/10 [==============================] - 0s 4ms/step - loss: 1.8381 - mae: 1.8381 - mse: 8.2759 - val_loss: 1.5961 - val_mae: 1.5961 - val_mse: 6.1138\n",
            "Epoch 231/300\n",
            "10/10 [==============================] - 0s 4ms/step - loss: 1.8375 - mae: 1.8375 - mse: 8.2826 - val_loss: 1.6064 - val_mae: 1.6064 - val_mse: 6.1881\n",
            "Epoch 232/300\n",
            "10/10 [==============================] - 0s 5ms/step - loss: 1.8362 - mae: 1.8362 - mse: 8.2814 - val_loss: 1.5994 - val_mae: 1.5994 - val_mse: 6.1688\n",
            "Epoch 233/300\n",
            "10/10 [==============================] - 0s 6ms/step - loss: 1.8378 - mae: 1.8378 - mse: 8.2922 - val_loss: 1.6018 - val_mae: 1.6018 - val_mse: 6.1754\n",
            "Epoch 234/300\n",
            "10/10 [==============================] - 0s 4ms/step - loss: 1.8349 - mae: 1.8349 - mse: 8.2796 - val_loss: 1.5975 - val_mae: 1.5975 - val_mse: 6.1637\n",
            "Epoch 235/300\n",
            "10/10 [==============================] - 0s 5ms/step - loss: 1.8374 - mae: 1.8374 - mse: 8.2769 - val_loss: 1.5949 - val_mae: 1.5949 - val_mse: 6.1528\n",
            "Epoch 236/300\n",
            "10/10 [==============================] - 0s 5ms/step - loss: 1.8349 - mae: 1.8349 - mse: 8.2892 - val_loss: 1.6027 - val_mae: 1.6027 - val_mse: 6.1771\n",
            "Epoch 237/300\n",
            "10/10 [==============================] - 0s 5ms/step - loss: 1.8387 - mae: 1.8387 - mse: 8.2806 - val_loss: 1.5982 - val_mae: 1.5982 - val_mse: 6.1650\n",
            "Epoch 238/300\n",
            "10/10 [==============================] - 0s 5ms/step - loss: 1.8353 - mae: 1.8353 - mse: 8.2771 - val_loss: 1.5961 - val_mae: 1.5961 - val_mse: 6.1596\n",
            "Epoch 239/300\n",
            "10/10 [==============================] - 0s 5ms/step - loss: 1.8340 - mae: 1.8340 - mse: 8.2842 - val_loss: 1.5951 - val_mae: 1.5951 - val_mse: 6.1384\n",
            "Epoch 240/300\n",
            "10/10 [==============================] - 0s 5ms/step - loss: 1.8373 - mae: 1.8373 - mse: 8.2929 - val_loss: 1.5955 - val_mae: 1.5955 - val_mse: 6.1282\n",
            "Epoch 241/300\n",
            "10/10 [==============================] - 0s 5ms/step - loss: 1.8358 - mae: 1.8358 - mse: 8.2844 - val_loss: 1.5951 - val_mae: 1.5951 - val_mse: 6.1397\n",
            "Epoch 242/300\n",
            "10/10 [==============================] - 0s 5ms/step - loss: 1.8368 - mae: 1.8368 - mse: 8.2847 - val_loss: 1.5949 - val_mae: 1.5949 - val_mse: 6.1438\n",
            "Epoch 243/300\n",
            "10/10 [==============================] - 0s 5ms/step - loss: 1.8365 - mae: 1.8365 - mse: 8.2848 - val_loss: 1.5949 - val_mae: 1.5949 - val_mse: 6.1435\n",
            "Epoch 244/300\n",
            "10/10 [==============================] - 0s 4ms/step - loss: 1.8355 - mae: 1.8355 - mse: 8.2868 - val_loss: 1.5953 - val_mae: 1.5953 - val_mse: 6.1337\n",
            "Epoch 245/300\n",
            "10/10 [==============================] - 0s 5ms/step - loss: 1.8380 - mae: 1.8380 - mse: 8.2958 - val_loss: 1.5959 - val_mae: 1.5959 - val_mse: 6.1173\n",
            "Epoch 246/300\n",
            "10/10 [==============================] - 0s 5ms/step - loss: 1.8407 - mae: 1.8407 - mse: 8.2884 - val_loss: 1.5948 - val_mae: 1.5948 - val_mse: 6.1460\n",
            "Epoch 247/300\n",
            "10/10 [==============================] - 0s 4ms/step - loss: 1.8366 - mae: 1.8366 - mse: 8.2858 - val_loss: 1.5981 - val_mae: 1.5981 - val_mse: 6.1656\n",
            "Epoch 248/300\n",
            "10/10 [==============================] - 0s 5ms/step - loss: 1.8346 - mae: 1.8346 - mse: 8.2836 - val_loss: 1.5948 - val_mae: 1.5948 - val_mse: 6.1494\n",
            "Epoch 249/300\n",
            "10/10 [==============================] - 0s 4ms/step - loss: 1.8352 - mae: 1.8352 - mse: 8.2794 - val_loss: 1.5958 - val_mae: 1.5958 - val_mse: 6.1202\n",
            "Epoch 250/300\n",
            "10/10 [==============================] - 0s 5ms/step - loss: 1.8374 - mae: 1.8374 - mse: 8.2852 - val_loss: 1.5948 - val_mae: 1.5948 - val_mse: 6.1510\n",
            "Epoch 251/300\n",
            "10/10 [==============================] - 0s 6ms/step - loss: 1.8333 - mae: 1.8333 - mse: 8.2844 - val_loss: 1.5949 - val_mae: 1.5949 - val_mse: 6.1473\n",
            "Epoch 252/300\n",
            "10/10 [==============================] - 0s 5ms/step - loss: 1.8355 - mae: 1.8355 - mse: 8.2867 - val_loss: 1.5951 - val_mae: 1.5951 - val_mse: 6.1548\n",
            "Epoch 253/300\n",
            "10/10 [==============================] - 0s 5ms/step - loss: 1.8329 - mae: 1.8329 - mse: 8.2838 - val_loss: 1.5949 - val_mae: 1.5949 - val_mse: 6.1497\n",
            "Epoch 254/300\n",
            "10/10 [==============================] - 0s 5ms/step - loss: 1.8347 - mae: 1.8347 - mse: 8.2797 - val_loss: 1.5949 - val_mae: 1.5949 - val_mse: 6.1524\n",
            "Epoch 255/300\n",
            "10/10 [==============================] - 0s 4ms/step - loss: 1.8391 - mae: 1.8391 - mse: 8.2876 - val_loss: 1.5951 - val_mae: 1.5951 - val_mse: 6.1429\n",
            "Epoch 256/300\n",
            "10/10 [==============================] - 0s 5ms/step - loss: 1.8356 - mae: 1.8356 - mse: 8.2879 - val_loss: 1.5990 - val_mae: 1.5990 - val_mse: 6.1652\n",
            "Epoch 257/300\n",
            "10/10 [==============================] - 0s 4ms/step - loss: 1.8355 - mae: 1.8355 - mse: 8.2916 - val_loss: 1.6082 - val_mae: 1.6082 - val_mse: 6.1912\n",
            "Epoch 258/300\n",
            "10/10 [==============================] - 0s 4ms/step - loss: 1.8397 - mae: 1.8397 - mse: 8.2870 - val_loss: 1.5956 - val_mae: 1.5956 - val_mse: 6.1290\n",
            "Epoch 259/300\n",
            "10/10 [==============================] - 0s 5ms/step - loss: 1.8397 - mae: 1.8397 - mse: 8.2982 - val_loss: 1.5951 - val_mae: 1.5951 - val_mse: 6.1403\n",
            "Epoch 260/300\n",
            "10/10 [==============================] - 0s 5ms/step - loss: 1.8360 - mae: 1.8360 - mse: 8.2852 - val_loss: 1.5949 - val_mae: 1.5949 - val_mse: 6.1471\n",
            "Epoch 261/300\n",
            "10/10 [==============================] - 0s 5ms/step - loss: 1.8359 - mae: 1.8359 - mse: 8.2827 - val_loss: 1.5951 - val_mae: 1.5951 - val_mse: 6.1429\n",
            "Epoch 262/300\n",
            "10/10 [==============================] - 0s 5ms/step - loss: 1.8401 - mae: 1.8401 - mse: 8.2945 - val_loss: 1.5952 - val_mae: 1.5952 - val_mse: 6.1370\n",
            "Epoch 263/300\n",
            "10/10 [==============================] - 0s 5ms/step - loss: 1.8336 - mae: 1.8336 - mse: 8.2759 - val_loss: 1.5961 - val_mae: 1.5961 - val_mse: 6.1589\n",
            "Epoch 264/300\n",
            "10/10 [==============================] - 0s 5ms/step - loss: 1.8336 - mae: 1.8336 - mse: 8.2865 - val_loss: 1.5966 - val_mae: 1.5966 - val_mse: 6.1598\n",
            "Epoch 265/300\n",
            "10/10 [==============================] - 0s 5ms/step - loss: 1.8340 - mae: 1.8340 - mse: 8.2837 - val_loss: 1.5952 - val_mae: 1.5952 - val_mse: 6.1406\n",
            "Epoch 266/300\n",
            "10/10 [==============================] - 0s 7ms/step - loss: 1.8384 - mae: 1.8384 - mse: 8.2887 - val_loss: 1.5951 - val_mae: 1.5951 - val_mse: 6.1443\n",
            "Epoch 267/300\n",
            "10/10 [==============================] - 0s 6ms/step - loss: 1.8380 - mae: 1.8380 - mse: 8.2645 - val_loss: 1.6079 - val_mae: 1.6079 - val_mse: 6.1901\n",
            "Epoch 268/300\n",
            "10/10 [==============================] - 0s 7ms/step - loss: 1.8382 - mae: 1.8382 - mse: 8.2741 - val_loss: 1.5973 - val_mae: 1.5973 - val_mse: 6.0872\n",
            "Epoch 269/300\n",
            "10/10 [==============================] - 0s 5ms/step - loss: 1.8471 - mae: 1.8471 - mse: 8.2382 - val_loss: 1.6046 - val_mae: 1.6046 - val_mse: 6.1809\n",
            "Epoch 270/300\n",
            "10/10 [==============================] - 0s 4ms/step - loss: 1.8431 - mae: 1.8431 - mse: 8.2986 - val_loss: 1.5957 - val_mae: 1.5957 - val_mse: 6.1265\n",
            "Epoch 271/300\n",
            "10/10 [==============================] - 0s 4ms/step - loss: 1.8365 - mae: 1.8365 - mse: 8.2789 - val_loss: 1.6058 - val_mae: 1.6058 - val_mse: 6.1850\n",
            "Epoch 272/300\n",
            "10/10 [==============================] - 0s 4ms/step - loss: 1.8354 - mae: 1.8354 - mse: 8.2862 - val_loss: 1.5950 - val_mae: 1.5950 - val_mse: 6.1537\n",
            "Epoch 273/300\n",
            "10/10 [==============================] - 0s 5ms/step - loss: 1.8342 - mae: 1.8342 - mse: 8.2841 - val_loss: 1.5949 - val_mae: 1.5949 - val_mse: 6.1465\n",
            "Epoch 274/300\n",
            "10/10 [==============================] - 0s 5ms/step - loss: 1.8343 - mae: 1.8343 - mse: 8.2836 - val_loss: 1.6016 - val_mae: 1.6016 - val_mse: 6.1723\n",
            "Epoch 275/300\n",
            "10/10 [==============================] - 0s 5ms/step - loss: 1.8371 - mae: 1.8371 - mse: 8.2900 - val_loss: 1.6067 - val_mae: 1.6067 - val_mse: 6.1860\n",
            "Epoch 276/300\n",
            "10/10 [==============================] - 0s 5ms/step - loss: 1.8379 - mae: 1.8379 - mse: 8.2890 - val_loss: 1.5955 - val_mae: 1.5955 - val_mse: 6.1332\n",
            "Epoch 277/300\n",
            "10/10 [==============================] - 0s 5ms/step - loss: 1.8350 - mae: 1.8350 - mse: 8.2836 - val_loss: 1.5958 - val_mae: 1.5958 - val_mse: 6.1566\n",
            "Epoch 278/300\n",
            "10/10 [==============================] - 0s 4ms/step - loss: 1.8349 - mae: 1.8349 - mse: 8.2884 - val_loss: 1.5950 - val_mae: 1.5950 - val_mse: 6.1446\n",
            "Epoch 279/300\n",
            "10/10 [==============================] - 0s 5ms/step - loss: 1.8389 - mae: 1.8389 - mse: 8.2702 - val_loss: 1.6091 - val_mae: 1.6091 - val_mse: 6.1930\n",
            "Epoch 280/300\n",
            "10/10 [==============================] - 0s 5ms/step - loss: 1.8433 - mae: 1.8433 - mse: 8.2804 - val_loss: 1.5960 - val_mae: 1.5960 - val_mse: 6.1186\n",
            "Epoch 281/300\n",
            "10/10 [==============================] - 0s 5ms/step - loss: 1.8387 - mae: 1.8387 - mse: 8.2851 - val_loss: 1.5955 - val_mae: 1.5955 - val_mse: 6.1315\n",
            "Epoch 282/300\n",
            "10/10 [==============================] - 0s 5ms/step - loss: 1.8365 - mae: 1.8365 - mse: 8.2872 - val_loss: 1.5953 - val_mae: 1.5953 - val_mse: 6.1362\n",
            "Epoch 283/300\n",
            "10/10 [==============================] - 0s 5ms/step - loss: 1.8362 - mae: 1.8362 - mse: 8.2834 - val_loss: 1.5957 - val_mae: 1.5957 - val_mse: 6.1261\n",
            "Epoch 284/300\n",
            "10/10 [==============================] - 0s 4ms/step - loss: 1.8375 - mae: 1.8375 - mse: 8.2856 - val_loss: 1.5956 - val_mae: 1.5956 - val_mse: 6.1283\n",
            "Epoch 285/300\n",
            "10/10 [==============================] - 0s 5ms/step - loss: 1.8383 - mae: 1.8383 - mse: 8.2899 - val_loss: 1.5957 - val_mae: 1.5957 - val_mse: 6.1238\n",
            "Epoch 286/300\n",
            "10/10 [==============================] - 0s 5ms/step - loss: 1.8461 - mae: 1.8461 - mse: 8.2373 - val_loss: 1.5974 - val_mae: 1.5974 - val_mse: 6.1630\n",
            "Epoch 287/300\n",
            "10/10 [==============================] - 0s 4ms/step - loss: 1.8442 - mae: 1.8442 - mse: 8.3217 - val_loss: 1.5952 - val_mae: 1.5952 - val_mse: 6.1370\n",
            "Epoch 288/300\n",
            "10/10 [==============================] - 0s 5ms/step - loss: 1.8377 - mae: 1.8377 - mse: 8.2708 - val_loss: 1.6028 - val_mae: 1.6028 - val_mse: 6.1782\n",
            "Epoch 289/300\n",
            "10/10 [==============================] - 0s 4ms/step - loss: 1.8354 - mae: 1.8354 - mse: 8.2836 - val_loss: 1.5963 - val_mae: 1.5963 - val_mse: 6.1605\n",
            "Epoch 290/300\n",
            "10/10 [==============================] - 0s 5ms/step - loss: 1.8356 - mae: 1.8356 - mse: 8.2855 - val_loss: 1.5984 - val_mae: 1.5984 - val_mse: 6.1665\n",
            "Epoch 291/300\n",
            "10/10 [==============================] - 0s 5ms/step - loss: 1.8332 - mae: 1.8332 - mse: 8.2835 - val_loss: 1.5960 - val_mae: 1.5960 - val_mse: 6.1590\n",
            "Epoch 292/300\n",
            "10/10 [==============================] - 0s 5ms/step - loss: 1.8352 - mae: 1.8352 - mse: 8.2820 - val_loss: 1.5950 - val_mae: 1.5950 - val_mse: 6.1439\n",
            "Epoch 293/300\n",
            "10/10 [==============================] - 0s 5ms/step - loss: 1.8371 - mae: 1.8371 - mse: 8.2875 - val_loss: 1.5953 - val_mae: 1.5953 - val_mse: 6.1351\n",
            "Epoch 294/300\n",
            "10/10 [==============================] - 0s 5ms/step - loss: 1.8336 - mae: 1.8336 - mse: 8.2836 - val_loss: 1.5961 - val_mae: 1.5961 - val_mse: 6.1582\n",
            "Epoch 295/300\n",
            "10/10 [==============================] - 0s 5ms/step - loss: 1.8339 - mae: 1.8339 - mse: 8.2840 - val_loss: 1.5950 - val_mae: 1.5950 - val_mse: 6.1444\n",
            "Epoch 296/300\n",
            "10/10 [==============================] - 0s 5ms/step - loss: 1.8376 - mae: 1.8376 - mse: 8.2771 - val_loss: 1.5952 - val_mae: 1.5952 - val_mse: 6.1554\n",
            "Epoch 297/300\n",
            "10/10 [==============================] - 0s 5ms/step - loss: 1.8386 - mae: 1.8386 - mse: 8.2811 - val_loss: 1.6016 - val_mae: 1.6016 - val_mse: 6.1736\n",
            "Epoch 298/300\n",
            "10/10 [==============================] - 0s 5ms/step - loss: 1.8357 - mae: 1.8357 - mse: 8.2861 - val_loss: 1.5952 - val_mae: 1.5952 - val_mse: 6.1378\n",
            "Epoch 299/300\n",
            "10/10 [==============================] - 0s 4ms/step - loss: 1.8359 - mae: 1.8359 - mse: 8.2816 - val_loss: 1.5950 - val_mae: 1.5950 - val_mse: 6.1415\n",
            "Epoch 300/300\n",
            "10/10 [==============================] - 0s 5ms/step - loss: 1.8349 - mae: 1.8349 - mse: 8.2839 - val_loss: 1.5950 - val_mae: 1.5950 - val_mse: 6.1440\n"
          ],
          "name": "stdout"
        }
      ]
    },
    {
      "cell_type": "code",
      "metadata": {
        "id": "6zYkLGS6wQyy",
        "colab": {
          "base_uri": "https://localhost:8080/"
        },
        "outputId": "4cce448e-85d4-4c37-80c8-1f0fac62831e"
      },
      "source": [
        "print(history)"
      ],
      "execution_count": 62,
      "outputs": [
        {
          "output_type": "stream",
          "text": [
            "<tensorflow.python.keras.callbacks.History object at 0x7f0fe79bba50>\n"
          ],
          "name": "stdout"
        }
      ]
    },
    {
      "cell_type": "code",
      "metadata": {
        "colab": {
          "base_uri": "https://localhost:8080/"
        },
        "id": "1lsbk_ohAu1j",
        "outputId": "09dd4ae7-8ea1-41e1-a810-f6aba7ce783d"
      },
      "source": [
        "model.summary()"
      ],
      "execution_count": 63,
      "outputs": [
        {
          "output_type": "stream",
          "text": [
            "Model: \"sequential_9\"\n",
            "_________________________________________________________________\n",
            "Layer (type)                 Output Shape              Param #   \n",
            "=================================================================\n",
            "dense_31 (Dense)             (None, 32)                64        \n",
            "_________________________________________________________________\n",
            "dense_32 (Dense)             (None, 1)                 33        \n",
            "=================================================================\n",
            "Total params: 97\n",
            "Trainable params: 97\n",
            "Non-trainable params: 0\n",
            "_________________________________________________________________\n"
          ],
          "name": "stdout"
        }
      ]
    },
    {
      "cell_type": "code",
      "metadata": {
        "colab": {
          "base_uri": "https://localhost:8080/",
          "height": 1000
        },
        "id": "P6VnkPim7tH7",
        "outputId": "c3b3ee8a-fa6b-4c56-b937-8d997589e52b"
      },
      "source": [
        "# tempString = 'mse'\n",
        "def curvePlots(tempString, ymin, ymax):\n",
        "  plt.plot(history.history[tempString])\n",
        "  plt.plot(history.history[f'val_{tempString}'])\n",
        "  axes = plt.gca()\n",
        "  axes.set_ylim([ymin,ymax])\n",
        "  plt.xlabel('NumEpochs')\n",
        "  plt.ylabel(tempString)\n",
        "  plt.legend([tempString, f'val_{tempString}'])\n",
        "  plt.show()\n",
        "\n",
        "\n",
        "curvePlots('mse', 5, 12)\n",
        "curvePlots('mae', 1, 2.8)\n",
        "curvePlots('loss', 1, 2.8)"
      ],
      "execution_count": 64,
      "outputs": [
        {
          "output_type": "display_data",
          "data": {
            "image/png": "[encoded data removed]",
            "text/plain": [
              "<Figure size 576x396 with 1 Axes>"
            ]
          },
          "metadata": {
            "tags": []
          }
        },
        {
          "output_type": "display_data",
          "data": {
            "image/png": "[encoded data removed]",
            "text/plain": [
              "<Figure size 576x396 with 1 Axes>"
            ]
          },
          "metadata": {
            "tags": []
          }
        },
        {
          "output_type": "display_data",
          "data": {
            "image/png": "[encoded data removed]",
            "text/plain": [
              "<Figure size 576x396 with 1 Axes>"
            ]
          },
          "metadata": {
            "tags": []
          }
        }
      ]
    },
    {
      "cell_type": "code",
      "metadata": {
        "id": "esW0eHQbzoj4",
        "colab": {
          "base_uri": "https://localhost:8080/"
        },
        "outputId": "7d664741-04d5-4d61-e4db-9097d2c767bb"
      },
      "source": [
        "model.predict([1])"
      ],
      "execution_count": 65,
      "outputs": [
        {
          "output_type": "execute_result",
          "data": {
            "text/plain": [
              "array([[1.0087146]], dtype=float32)"
            ]
          },
          "metadata": {
            "tags": []
          },
          "execution_count": 65
        }
      ]
    },
    {
      "cell_type": "code",
      "metadata": {
        "colab": {
          "base_uri": "https://localhost:8080/"
        },
        "id": "KJrLWamX8Tg-",
        "outputId": "696c1951-afbf-47bb-cfbc-022d3d4430d6"
      },
      "source": [
        "# testPreds = model.predict(testFeatures).flatten() #array of all prediction values\n",
        "\n",
        "#for single values\n",
        "\n",
        "print(f'Prediction for input value 1: {model.predict([1])}')\n",
        "\n",
        "\n",
        "# for a list of values\n",
        "tempListforPreds = [1,2,3,4,5]\n",
        "print(f'''\n",
        "\n",
        "input List = {tempListforPreds}\n",
        "\n",
        "\n",
        "List of Predictions:\n",
        "{model.predict(tempListforPreds)}\n",
        "\n",
        "List of Predictions (flattened out):\n",
        "{model.predict(tempListforPreds).flatten()}\n",
        "''')"
      ],
      "execution_count": 66,
      "outputs": [
        {
          "output_type": "stream",
          "text": [
            "Prediction for input value 1: [[1.0087146]]\n",
            "\n",
            "\n",
            "input List = [1, 2, 3, 4, 5]\n",
            "\n",
            "\n",
            "List of Predictions:\n",
            "[[1.0087146]\n",
            " [2.0073342]\n",
            " [3.0053487]\n",
            " [4.003205 ]\n",
            " [5.001061 ]]\n",
            "\n",
            "List of Predictions (flattened out):\n",
            "[1.0087146 2.0073342 3.0053487 4.003205  5.001061 ]\n",
            "\n"
          ],
          "name": "stdout"
        }
      ]
    },
    {
      "cell_type": "code",
      "metadata": {
        "id": "vJNFh6hc0K6r",
        "colab": {
          "base_uri": "https://localhost:8080/"
        },
        "outputId": "ef71050b-8100-4453-dedd-08944fce4216"
      },
      "source": [
        "print(testFeatures)"
      ],
      "execution_count": 67,
      "outputs": [
        {
          "output_type": "stream",
          "text": [
            "     G1\n",
            "9    14\n",
            "25    6\n",
            "28   11\n",
            "31   17\n",
            "32   17\n",
            "..   ..\n",
            "365  10\n",
            "367   7\n",
            "379  10\n",
            "381   7\n",
            "393  11\n",
            "\n",
            "[79 rows x 1 columns]\n"
          ],
          "name": "stdout"
        }
      ]
    },
    {
      "cell_type": "code",
      "metadata": {
        "id": "MniGZOu50IyN"
      },
      "source": [
        "testPreds = model.predict(testFeatures).flatten() #array of all prediction values"
      ],
      "execution_count": 68,
      "outputs": []
    },
    {
      "cell_type": "code",
      "metadata": {
        "id": "du0Orwu40Qan",
        "colab": {
          "base_uri": "https://localhost:8080/"
        },
        "outputId": "2e2bccaa-f52e-42c9-8e57-f765391b1190"
      },
      "source": [
        "print(len(testPreds))\n",
        "print(testPreds)"
      ],
      "execution_count": 69,
      "outputs": [
        {
          "output_type": "stream",
          "text": [
            "79\n",
            "[13.981768   5.9989176 10.988199  16.975336  16.975336  11.986055\n",
            " 13.981768  18.971048  18.971048   7.99463   13.981768  12.983911\n",
            "  7.99463    6.9967737  8.992486  12.983911  10.988199  15.97748\n",
            "  6.9967737  9.990343  14.979625  12.983911  13.981768  15.97748\n",
            "  6.9967737  6.9967737  7.99463    9.990343  11.986055   9.990343\n",
            " 11.986055  12.983911   9.990343   5.9989176  8.992486  11.986055\n",
            "  6.9967737  7.99463   13.981768   8.992486   8.992486   6.9967737\n",
            " 11.986055   5.9989176 12.983911   6.9967737  6.9967737 10.988199\n",
            " 12.983911  16.975336  11.986055  14.979625   8.992486  11.986055\n",
            " 14.979625  11.986055  14.979625  11.986055  14.979625  10.988199\n",
            " 11.986055   7.99463   15.97748    6.9967737 15.97748   10.988199\n",
            " 15.97748   12.9839115  7.9946303  7.9946303 11.986056  17.973194\n",
            " 12.9839115 15.97748    9.990343   6.9967737  9.990343   6.9967737\n",
            " 10.988199 ]\n"
          ],
          "name": "stdout"
        }
      ]
    },
    {
      "cell_type": "code",
      "metadata": {
        "colab": {
          "base_uri": "https://localhost:8080/",
          "height": 361
        },
        "id": "EfP8bB_v89Wa",
        "outputId": "652598da-c5a3-46ed-fdc0-df35f95a87b6"
      },
      "source": [
        "# prediciton plot --> how well is your model predicting across the actual labels\n",
        "\n",
        "def predPlot(labels, predictions):\n",
        "  plt.scatter(labels, predictions)\n",
        "  plt.ylabel('Predictions')\n",
        "  plt.xlabel('True Value or Labels')\n",
        "  plt.axis('equal')\n",
        "  plt.axis('square')\n",
        "  plt.xlim([0, plt.xlim()[1]])\n",
        "  plt.ylim([0, plt.ylim()[1]])\n",
        "  plt.show()\n",
        "\n",
        "predPlot(testLabels, testPreds)"
      ],
      "execution_count": 70,
      "outputs": [
        {
          "output_type": "display_data",
          "data": {
            "image/png": "[encoded data removed]",
            "text/plain": [
              "<Figure size 576x396 with 1 Axes>"
            ]
          },
          "metadata": {
            "tags": []
          }
        }
      ]
    },
    {
      "cell_type": "code",
      "metadata": {
        "colab": {
          "base_uri": "https://localhost:8080/",
          "height": 361
        },
        "id": "70608Z0o9tWL",
        "outputId": "5263fb8e-8805-4e14-a875-3e0b2d82d9be"
      },
      "source": [
        "#error plot --> gaussian distribution \n",
        "\n",
        "def errorPlot(preds, labels, counts):\n",
        "  errors = preds - labels\n",
        "  plt.hist(errors, counts)\n",
        "  plt.xlabel('Error')\n",
        "  plt.ylabel('Counts')\n",
        "  plt.show()\n",
        "\n",
        "errorPlot(testPreds, testLabels, numEpochs)"
      ],
      "execution_count": 71,
      "outputs": [
        {
          "output_type": "display_data",
          "data": {
            "image/png": "[encoded data removed]",
            "text/plain": [
              "<Figure size 576x396 with 1 Axes>"
            ]
          },
          "metadata": {
            "tags": []
          }
        }
      ]
    },
    {
      "cell_type": "markdown",
      "metadata": {
        "id": "oshf2mUG1vPk"
      },
      "source": [
        "Note: \n",
        "\n",
        "\n",
        "Validation loss `val_loss` is a metric that tells you how much deviation from the actual label can you expect in the predicted label\n",
        "\n",
        "To optimize your predicitons -->\n",
        "\n",
        "- Hyperparameter tuning --> `numEpochs`, `optimizer`, `learning_rate`, lossFunctions"
      ]
    }
  ]
}